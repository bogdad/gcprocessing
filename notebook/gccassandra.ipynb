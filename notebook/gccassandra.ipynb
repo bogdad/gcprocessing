{
 "cells": [
  {
   "cell_type": "code",
   "execution_count": null,
   "metadata": {},
   "outputs": [
    {
     "name": "stderr",
     "output_type": "stream",
     "text": [
      "\u001b[1m\u001b[34mINFO: Initializing package repository /Users/vladimirshakhov/.julia/v0.5\n",
      "\u001b[0m\u001b[1m\u001b[34mINFO: Cloning METADATA from https://github.com/JuliaLang/METADATA.jl\n",
      "\u001b[0m\u001b[1m\u001b[34mINFO: Updating METADATA...\n",
      "\u001b[0m\u001b[1m\u001b[34mINFO: Computing changes...\n",
      "\u001b[0m\u001b[1m\u001b[34mINFO: No packages to install, update or remove\n",
      "\u001b[0m\u001b[1m\u001b[34mINFO: Installing BinDeps v0.4.7\n",
      "\u001b[0m\u001b[1m\u001b[34mINFO: Installing Blink v0.5.2\n",
      "\u001b[0m\u001b[1m\u001b[34mINFO: Installing Codecs v0.3.0\n",
      "\u001b[0m\u001b[1m\u001b[34mINFO: Installing Compat v0.24.0\n",
      "\u001b[0m\u001b[1m\u001b[34mINFO: Installing Hiccup v0.1.1\n",
      "\u001b[0m\u001b[1m\u001b[34mINFO: Installing Homebrew v0.5.6\n",
      "\u001b[0m\u001b[1m\u001b[34mINFO: Installing HttpCommon v0.2.7\n",
      "\u001b[0m\u001b[1m\u001b[34mINFO: Installing HttpParser v0.2.0\n",
      "\u001b[0m\u001b[1m\u001b[34mINFO: Installing HttpServer v0.2.0\n",
      "\u001b[0m\u001b[1m\u001b[34mINFO: Installing JSON v0.10.0\n",
      "\u001b[0m\u001b[1m\u001b[34mINFO: Installing Lazy v0.11.6\n",
      "\u001b[0m\u001b[1m\u001b[34mINFO: Installing MacroTools v0.3.6\n",
      "\u001b[0m\u001b[1m\u001b[34mINFO: Installing MbedTLS v0.4.5\n",
      "\u001b[0m\u001b[1m\u001b[34mINFO: Installing Mustache v0.1.4\n",
      "\u001b[0m\u001b[1m\u001b[34mINFO: Installing Mux v0.2.3\n",
      "\u001b[0m\u001b[1m\u001b[34mINFO: Installing Reexport v0.0.3\n",
      "\u001b[0m\u001b[1m\u001b[34mINFO: Installing SHA v0.3.2\n",
      "\u001b[0m\u001b[1m\u001b[34mINFO: Installing URIParser v0.1.8\n",
      "\u001b[0m\u001b[1m\u001b[34mINFO: Installing WebSockets v0.2.1\n",
      "\u001b[0m\u001b[1m\u001b[34mINFO: Building HttpParser\n",
      "\u001b[0m\u001b[1m\u001b[34mINFO: Attempting to Create directory /Users/vladimirshakhov/.julia/v0.5/HttpParser/deps/downloads\n",
      "\u001b[0m\u001b[1m\u001b[34mINFO: Attempting to Create directory /Users/vladimirshakhov/.julia/v0.5/HttpParser/deps/downloads\n",
      "\u001b[0m\u001b[1m\u001b[34mINFO: Directory /Users/vladimirshakhov/.julia/v0.5/HttpParser/deps/downloads already created\n",
      "\u001b[0m\u001b[1m\u001b[34mINFO: Downloading file https://github.com/nodejs/http-parser/archive/v2.7.1.zip\n",
      "\u001b[0m  % Total    % Received % Xferd  Average Speed   Time    Time     Time  Current\n",
      "                                 Dload  Upload   Total   Spent    Left  Speed\n",
      "100   123    0   123    0     0    218      0 --:--:-- --:--:-- --:--:--   218\n",
      "  0     0    0     0    0     0      0      0 --:--:-- --:--:-- --:--:--     0"
     ]
    },
    {
     "name": "stdout",
     "output_type": "stream",
     "text": [
      "Archive:  /Users/vladimirshakhov/.julia/v0.5/HttpParser/deps/downloads/v2.7.1.zip\n",
      "feae95a3a69f111bc1897b9048d9acbc290992f9\n",
      "   creating: /Users/vladimirshakhov/.julia/v0.5/HttpParser/deps/src/http-parser-2.7.1/\n",
      "  inflating: /Users/vladimirshakhov/.julia/v0.5/HttpParser/deps/src/http-parser-2.7.1/.gitignore  \n",
      "  inflating: /Users/vladimirshakhov/.julia/v0.5/HttpParser/deps/src/http-parser-2.7.1/.mailmap  \n",
      "  inflating: /Users/vladimirshakhov/.julia/v0.5/HttpParser/deps/src/http-parser-2.7.1/.travis.yml  \n",
      "  inflating: /Users/vladimirshakhov/.julia/v0.5/HttpParser/deps/src/http-parser-2.7.1/AUTHORS  \n",
      "  inflating: /Users/vladimirshakhov/.julia/v0.5/HttpParser/deps/src/http-parser-2.7.1/LICENSE-MIT  \n",
      "  inflating: /Users/vladimirshakhov/.julia/v0.5/HttpParser/deps/src/http-parser-2.7.1/Makefile  \n",
      "  inflating: /Users/vladimirshakhov/.julia/v0.5/HttpParser/deps/src/http-parser-2.7.1/README.md  \n",
      "  inflating: /Users/vladimirshakhov/.julia/v0.5/HttpParser/deps/src/http-parser-2.7.1/bench.c  \n",
      "   creating: /Users/vladimirshakhov/.julia/v0.5/HttpParser/deps/src/http-parser-2.7.1/contrib/\n",
      "  inflating: /Users/vladimirshakhov/.julia/v0.5/HttpParser/deps/src/http-parser-2.7.1/contrib/parsertrace.c  \n",
      "  inflating: /Users/vladimirshakhov/.julia/v0.5/HttpParser/deps/src/http-parser-2.7.1/contrib/url_parser.c  \n",
      "  inflating: /Users/vladimirshakhov/.julia/v0.5/HttpParser/deps/src/http-parser-2.7.1/http_parser.c  \n",
      "  inflating: /Users/vladimirshakhov/.julia/v0.5/HttpParser/deps/src/http-parser-2.7.1/http_parser.gyp  \n",
      "  inflating: /Users/vladimirshakhov/.julia/v0.5/HttpParser/deps/src/http-parser-2.7.1/http_parser.h  \n",
      "  inflating: /Users/vladimirshakhov/.julia/v0.5/HttpParser/deps/src/http-parser-2.7.1/test.c  \n"
     ]
    },
    {
     "name": "stderr",
     "output_type": "stream",
     "text": [
      "\r",
      "100 55365  100 55365    0     0  36943      0  0:00:01  0:00:01 --:--:-- 76155\n",
      "\u001b[1m\u001b[34mINFO: Done downloading file https://github.com/nodejs/http-parser/archive/v2.7.1.zip\n",
      "\u001b[0m\u001b[1m\u001b[34mINFO: Attempting to Create directory /Users/vladimirshakhov/.julia/v0.5/HttpParser/deps\n",
      "\u001b[0m\u001b[1m\u001b[34mINFO: Directory /Users/vladimirshakhov/.julia/v0.5/HttpParser/deps already created\n",
      "\u001b[0m\u001b[1m\u001b[34mINFO: Attempting to Create directory /Users/vladimirshakhov/.julia/v0.5/HttpParser/deps/usr/lib\n",
      "\u001b[0m\u001b[1m\u001b[34mINFO: Changing Directory to /Users/vladimirshakhov/.julia/v0.5/HttpParser/deps/src/http-parser-2.7.1\n",
      "\u001b[0m\u001b[1m\u001b[34mINFO: Changing Directory to /Users/vladimirshakhov/.julia/v0.5/HttpParser/deps/src/http-parser-2.7.1\n",
      "\u001b[0m\u001b[1m\u001b[34mINFO: Changing Directory to /Users/vladimirshakhov/.julia/v0.5/HttpParser/deps/src\n",
      "\u001b[0m\u001b[1m\u001b[34mINFO: Attempting to Create directory /Users/vladimirshakhov/.julia/v0.5/HttpParser/deps/usr/lib\n",
      "\u001b[0m\u001b[1m\u001b[34mINFO: Directory /Users/vladimirshakhov/.julia/v0.5/HttpParser/deps/usr/lib already created\n",
      "\u001b[0m\u001b[1m\u001b[34mINFO: Changing Directory to /Users/vladimirshakhov/.julia/v0.5/HttpParser/deps/src\n",
      "\u001b[0m"
     ]
    },
    {
     "name": "stdout",
     "output_type": "stream",
     "text": [
      "cc  -I. -DHTTP_PARSER_STRICT=0  -Wall -Wextra -Werror -O3  -fPIC -c http_parser.c -o libhttp_parser.o\n",
      "cc  -shared -o libhttp_parser.dylib libhttp_parser.o\n"
     ]
    },
    {
     "name": "stderr",
     "output_type": "stream",
     "text": [
      "\u001b[1m\u001b[34mINFO: Changing Directory to /Users/vladimirshakhov/.julia/v0.5/HttpParser/deps/src\n",
      "\u001b[0m\u001b[1m\u001b[34mINFO: Building Homebrew\n",
      "\u001b[0m\u001b[1m\u001b[34mINFO: Downloading brew...\n",
      "######################################################################### 100.0%\n",
      "######################################################################### 100.0%\n",
      "######################################################################### 100.0%\n",
      "######################################################################### 100.0%\n"
     ]
    },
    {
     "name": "stdout",
     "output_type": "stream",
     "text": [
      "Initialized empty Git repository in /Users/vladimirshakhov/.julia/v0.5/Homebrew/deps/usr/.git/\n"
     ]
    },
    {
     "name": "stderr",
     "output_type": "stream",
     "text": [
      "Updating Homebrew...\n",
      "From https://github.com/Homebrew/brew\n",
      " * [new branch]      master     -> origin/master\n"
     ]
    },
    {
     "name": "stdout",
     "output_type": "stream",
     "text": [
      "HEAD is now at 93d4fdf Merge pull request #2587 from decrement/patch-1\n",
      "Initialized empty Git repository in /Users/vladimirshakhov/.julia/v0.5/Homebrew/deps/usr/Library/Taps/homebrew/homebrew-core/.git/\n"
     ]
    },
    {
     "name": "stderr",
     "output_type": "stream",
     "text": [
      "From https://github.com/Homebrew/homebrew-core\n",
      " * [new branch]      master     -> origin/master\n"
     ]
    },
    {
     "name": "stdout",
     "output_type": "stream",
     "text": [
      "HEAD is now at 640bb9f libvirt: update 3.3.0 bottle.\n",
      "\u0007==> Homebrew has enabled anonymous aggregate user behaviour analytics.\n",
      "Read the analytics documentation (and how to opt-out) here:\n",
      "  http://docs.brew.sh/Analytics.html\n",
      "\n",
      "==> Installing git from staticfloat/juliatranslated\n",
      "==> Downloading https://homebrew.bintray.com/bottles/git-2.12.2.sierra.bottle.tar.gz\n",
      "Already downloaded: /Users/vladimirshakhov/Library/Caches/Homebrew/git-2.12.2.sierra.bottle.tar.gz\n",
      "==> Pouring git-2.12.2.sierra.bottle.tar.gz\n",
      "==> Caveats\n",
      "Bash completion has been installed to:\n",
      "  /Users/vladimirshakhov/.julia/v0.5/Homebrew/deps/usr/etc/bash_completion.d\n",
      "\n",
      "zsh completions and functions have been installed to:\n",
      "  /Users/vladimirshakhov/.julia/v0.5/Homebrew/deps/usr/share/zsh/site-functions\n",
      "\n",
      "Emacs Lisp files have been installed to:\n",
      "  /Users/vladimirshakhov/.julia/v0.5/Homebrew/deps/usr/share/emacs/site-lisp/git\n",
      "==> Summary\n",
      "🍺  /Users/vladimirshakhov/.julia/v0.5/Homebrew/deps/usr/Cellar/git/2.12.2: 1,455 files, 33.0MB\n"
     ]
    },
    {
     "name": "stderr",
     "output_type": "stream",
     "text": [
      "Warning: Already linked: /Users/vladimirshakhov/.julia/v0.5/Homebrew/deps/usr/Cellar/git/2.12.2\n"
     ]
    },
    {
     "name": "stdout",
     "output_type": "stream",
     "text": [
      "Checking if we need to fetch /Users/vladimirshakhov/.julia/v0.5/Homebrew/deps/usr...\n",
      "Checking if we need to fetch /Users/vladimirshakhov/.julia/v0.5/Homebrew/deps/usr/Library/Taps/homebrew/homebrew-core...\n",
      "Fetching /Users/vladimirshakhov/.julia/v0.5/Homebrew/deps/usr/Library/Taps/homebrew/homebrew-core...\n",
      "Fetching /Users/vladimirshakhov/.julia/v0.5/Homebrew/deps/usr...\n"
     ]
    }
   ],
   "source": [
    "Pkg.update()\n",
    "Pkg.add(\"Blink\")\n",
    "Pkg.add(\"DataFrames\")\n",
    "Pkg.add(\"Plots\")\n",
    "Pkg.add(\"PyPlot\")\n",
    "Pkg.add(\"PlotlyJS\")\n",
    "Pkg.add(\"Plotly\")\n",
    "Pkg.add(\"StatPlots\")\n",
    "Pkg.add(\"GR\")"
   ]
  },
  {
   "cell_type": "code",
   "execution_count": 2,
   "metadata": {},
   "outputs": [
    {
     "name": "stderr",
     "output_type": "stream",
     "text": [
      "\u001b[1m\u001b[34mINFO: Nothing to be done\n",
      "\u001b[0m"
     ]
    }
   ],
   "source": []
  },
  {
   "cell_type": "code",
   "execution_count": 60,
   "metadata": {},
   "outputs": [
    {
     "name": "stderr",
     "output_type": "stream",
     "text": [
      "\u001b[1m\u001b[34mINFO: Nothing to be done\n",
      "\u001b[0m\u001b[1m\u001b[34mINFO: METADATA is out-of-date — you may not have the latest version of Plots\n",
      "\u001b[0m\u001b[1m\u001b[34mINFO: Use `Pkg.update()` to get the latest versions of your packages\n",
      "\u001b[0m"
     ]
    }
   ],
   "source": []
  },
  {
   "cell_type": "code",
   "execution_count": 71,
   "metadata": {},
   "outputs": [],
   "source": [
    "using DataFrames\n",
    "using Plots\n",
    "using GR\n"
   ]
  },
  {
   "cell_type": "code",
   "execution_count": 35,
   "metadata": {},
   "outputs": [
    {
     "data": {
      "text/html": [
       "<table class=\"data-frame\"><thead><tr><th></th><th>Timestamp_sec_</th><th>Timestamp_unix_</th><th>Used_K_</th><th>Total_K_</th><th>Pause_sec_</th><th>GC_Type</th><th>Host</th><th>Time</th></tr></thead><tbody><tr><th>1</th><td>5.0573954</td><td>1493047043</td><td>2516608</td><td>12268352</td><td>0.0226046</td><td>GC (Allocation Failure)</td><td>a1</td><td>2017-04-24T15:17:23</td></tr><tr><th>2</th><td>7.0826077000000005</td><td>1493047045</td><td>851580</td><td>12268352</td><td>0.0243923</td><td>GC (CMS Initial Mark)</td><td>a1</td><td>2017-04-24T15:17:25</td></tr><tr><th>3</th><td>12.232230300000001</td><td>1493047050</td><td>1304572</td><td>12268352</td><td>0.0457697</td><td>GC (CMS Final Remark)</td><td>a1</td><td>2017-04-24T15:17:30</td></tr><tr><th>4</th><td>13.586019799999999</td><td>1493047051</td><td>2531664</td><td>12268352</td><td>0.0589802</td><td>GC (Allocation Failure)</td><td>a1</td><td>2017-04-24T15:17:31</td></tr><tr><th>5</th><td>17.1987272</td><td>1493047055</td><td>2542213</td><td>12268352</td><td>0.0502728</td><td>GC (Allocation Failure)</td><td>a1</td><td>2017-04-24T15:17:35</td></tr><tr><th>6</th><td>19.7062585</td><td>1493047057</td><td>2579348</td><td>12268352</td><td>0.0387415</td><td>GC (GCLocker Initiated GC)</td><td>a1</td><td>2017-04-24T15:17:37</td></tr><tr><th>7</th><td>21.8134767</td><td>1493047060</td><td>2610400</td><td>12268352</td><td>0.0725233</td><td>GC (GCLocker Initiated GC)</td><td>a1</td><td>2017-04-24T15:17:40</td></tr><tr><th>8</th><td>24.3070287</td><td>1493047062</td><td>2686078</td><td>12268352</td><td>0.1099713</td><td>GC (Allocation Failure)</td><td>a1</td><td>2017-04-24T15:17:42</td></tr><tr><th>9</th><td>26.0442997</td><td>1493047064</td><td>2865767</td><td>12268352</td><td>0.1287003</td><td>GC (Allocation Failure)</td><td>a1</td><td>2017-04-24T15:17:44</td></tr><tr><th>10</th><td>28.1879116</td><td>1493047066</td><td>2906806</td><td>12268352</td><td>0.0920884</td><td>GC (Allocation Failure)</td><td>a1</td><td>2017-04-24T15:17:46</td></tr><tr><th>11</th><td>28.2512632</td><td>1493047066</td><td>493407</td><td>12268352</td><td>0.1257368</td><td>GC (GCLocker Initiated GC)</td><td>a1</td><td>2017-04-24T15:17:46</td></tr><tr><th>12</th><td>29.8737079</td><td>1493047068</td><td>3051155</td><td>12268352</td><td>0.0612921</td><td>GC (Allocation Failure)</td><td>a1</td><td>2017-04-24T15:17:48</td></tr><tr><th>13</th><td>29.891387700000003</td><td>1493047068</td><td>644347</td><td>12268352</td><td>0.1096123</td><td>GC (GCLocker Initiated GC)</td><td>a1</td><td>2017-04-24T15:17:48</td></tr><tr><th>14</th><td>31.5832768</td><td>1493047069</td><td>3226752</td><td>12268352</td><td>0.0407232</td><td>GC (Allocation Failure)</td><td>a1</td><td>2017-04-24T15:17:49</td></tr><tr><th>15</th><td>33.7934953</td><td>1493047072</td><td>3219293</td><td>12268352</td><td>0.0725047</td><td>GC (Allocation Failure)</td><td>a1</td><td>2017-04-24T15:17:52</td></tr><tr><th>16</th><td>36.3379796</td><td>1493047074</td><td>3292452</td><td>12268352</td><td>0.0750204</td><td>GC (Allocation Failure)</td><td>a1</td><td>2017-04-24T15:17:54</td></tr><tr><th>17</th><td>36.430282899999995</td><td>1493047074</td><td>892901</td><td>12268352</td><td>0.0737171</td><td>GC (GCLocker Initiated GC)</td><td>a1</td><td>2017-04-24T15:17:54</td></tr><tr><th>18</th><td>39.5713205</td><td>1493047077</td><td>3392669</td><td>12268352</td><td>0.0356795</td><td>GC (Allocation Failure)</td><td>a1</td><td>2017-04-24T15:17:57</td></tr><tr><th>19</th><td>44.5478172</td><td>1493047082</td><td>3430943</td><td>12268352</td><td>0.0661828</td><td>GC (Allocation Failure)</td><td>a1</td><td>2017-04-24T15:18:02</td></tr><tr><th>20</th><td>49.5493547</td><td>1493047087</td><td>3451831</td><td>12268352</td><td>0.1206453</td><td>GC (Allocation Failure)</td><td>a1</td><td>2017-04-24T15:18:07</td></tr><tr><th>21</th><td>54.749178699999995</td><td>1493047092</td><td>3638844</td><td>12268352</td><td>0.0718213</td><td>GC (Allocation Failure)</td><td>a1</td><td>2017-04-24T15:18:12</td></tr><tr><th>22</th><td>59.6599789</td><td>1493047097</td><td>3630952</td><td>12268352</td><td>0.0800211</td><td>GC (Allocation Failure)</td><td>a1</td><td>2017-04-24T15:18:17</td></tr><tr><th>23</th><td>64.41591199999999</td><td>1493047102</td><td>3664832</td><td>12268352</td><td>0.065088</td><td>GC (Allocation Failure)</td><td>a1</td><td>2017-04-24T15:18:22</td></tr><tr><th>24</th><td>64.4695651</td><td>1493047102</td><td>1147629</td><td>12268352</td><td>0.0814349</td><td>GC (GCLocker Initiated GC)</td><td>a1</td><td>2017-04-24T15:18:22</td></tr><tr><th>25</th><td>69.32627330000001</td><td>1493047107</td><td>3675204</td><td>12268352</td><td>0.0377267</td><td>GC (Allocation Failure)</td><td>a1</td><td>2017-04-24T15:18:27</td></tr><tr><th>26</th><td>73.9781383</td><td>1493047112</td><td>3756165</td><td>12268352</td><td>0.0728617</td><td>GC (Allocation Failure)</td><td>a1</td><td>2017-04-24T15:18:32</td></tr><tr><th>27</th><td>78.7208263</td><td>1493047116</td><td>3769061</td><td>12268352</td><td>0.0681737</td><td>GC (GCLocker Initiated GC)</td><td>a1</td><td>2017-04-24T15:18:36</td></tr><tr><th>28</th><td>83.5183368</td><td>1493047121</td><td>3824235</td><td>12268352</td><td>0.0656632</td><td>GC (Allocation Failure)</td><td>a1</td><td>2017-04-24T15:18:41</td></tr><tr><th>29</th><td>88.1826801</td><td>1493047126</td><td>3846263</td><td>12268352</td><td>0.0663199</td><td>GC (Allocation Failure)</td><td>a1</td><td>2017-04-24T15:18:46</td></tr><tr><th>30</th><td>92.9979605</td><td>1493047131</td><td>3913455</td><td>12268352</td><td>0.0650395</td><td>GC (Allocation Failure)</td><td>a1</td><td>2017-04-24T15:18:51</td></tr><tr><th>&vellip;</th><td>&vellip;</td><td>&vellip;</td><td>&vellip;</td><td>&vellip;</td><td>&vellip;</td><td>&vellip;</td><td>&vellip;</td><td>&vellip;</td></tr></tbody></table>"
      ],
      "text/plain": [
       "5424970×8 DataFrames.DataFrame\n",
       "│ Row     │ Timestamp_sec_ │ Timestamp_unix_ │ Used_K_ │ Total_K_ │ Pause_sec_ │\n",
       "├─────────┼────────────────┼─────────────────┼─────────┼──────────┼────────────┤\n",
       "│ 1       │ 5.0574         │ 1493047043      │ 2516608 │ 12268352 │ 0.0226046  │\n",
       "│ 2       │ 7.08261        │ 1493047045      │ 851580  │ 12268352 │ 0.0243923  │\n",
       "│ 3       │ 12.2322        │ 1493047050      │ 1304572 │ 12268352 │ 0.0457697  │\n",
       "│ 4       │ 13.586         │ 1493047051      │ 2531664 │ 12268352 │ 0.0589802  │\n",
       "│ 5       │ 17.1987        │ 1493047055      │ 2542213 │ 12268352 │ 0.0502728  │\n",
       "│ 6       │ 19.7063        │ 1493047057      │ 2579348 │ 12268352 │ 0.0387415  │\n",
       "│ 7       │ 21.8135        │ 1493047060      │ 2610400 │ 12268352 │ 0.0725233  │\n",
       "│ 8       │ 24.307         │ 1493047062      │ 2686078 │ 12268352 │ 0.109971   │\n",
       "│ 9       │ 26.0443        │ 1493047064      │ 2865767 │ 12268352 │ 0.1287     │\n",
       "│ 10      │ 28.1879        │ 1493047066      │ 2906806 │ 12268352 │ 0.0920884  │\n",
       "│ 11      │ 28.2513        │ 1493047066      │ 493407  │ 12268352 │ 0.125737   │\n",
       "⋮\n",
       "│ 5424959 │ 1.02162e6      │ 1494060658      │ 8499583 │ 12268352 │ 0.116936   │\n",
       "│ 5424960 │ 1.02164e6      │ 1494060677      │ 8607784 │ 12268352 │ 0.158706   │\n",
       "│ 5424961 │ 1.02166e6      │ 1494060697      │ 8751340 │ 12268352 │ 0.202508   │\n",
       "│ 5424962 │ 1.02167e6      │ 1494060715      │ 8890734 │ 12268352 │ 0.169776   │\n",
       "│ 5424963 │ 1.02169e6      │ 1494060729      │ 9005845 │ 12268352 │ 0.0802448  │\n",
       "│ 5424964 │ 1.02172e6      │ 1494060760      │ 8994529 │ 12268352 │ 0.0760083  │\n",
       "│ 5424965 │ 1.02175e6      │ 1494060790      │ 9110603 │ 12268352 │ 0.0943094  │\n",
       "│ 5424966 │ 1.02178e6      │ 1494060821      │ 9225698 │ 12268352 │ 0.11233    │\n",
       "│ 5424967 │ 1.02181e6      │ 1494060851      │ 9336364 │ 12268352 │ 0.101631   │\n",
       "│ 5424968 │ 1.02184e6      │ 1494060881      │ 9445652 │ 12268352 │ 0.144494   │\n",
       "│ 5424969 │ 1.02187e6      │ 1494060912      │ 9552989 │ 12268352 │ 0.156765   │\n",
       "│ 5424970 │ 1.0219e6       │ 1494060943      │ 9667008 │ 12268352 │ 0.13181    │\n",
       "\n",
       "│ Row     │ GC_Type                      │ Host   │ Time                  │\n",
       "├─────────┼──────────────────────────────┼────────┼───────────────────────┤\n",
       "│ 1       │ \"GC (Allocation Failure)\"    │ \"a1\"   │ \"2017-04-24T15:17:23\" │\n",
       "│ 2       │ \"GC (CMS Initial Mark)\"      │ \"a1\"   │ \"2017-04-24T15:17:25\" │\n",
       "│ 3       │ \"GC (CMS Final Remark)\"      │ \"a1\"   │ \"2017-04-24T15:17:30\" │\n",
       "│ 4       │ \"GC (Allocation Failure)\"    │ \"a1\"   │ \"2017-04-24T15:17:31\" │\n",
       "│ 5       │ \"GC (Allocation Failure)\"    │ \"a1\"   │ \"2017-04-24T15:17:35\" │\n",
       "│ 6       │ \"GC (GCLocker Initiated GC)\" │ \"a1\"   │ \"2017-04-24T15:17:37\" │\n",
       "│ 7       │ \"GC (GCLocker Initiated GC)\" │ \"a1\"   │ \"2017-04-24T15:17:40\" │\n",
       "│ 8       │ \"GC (Allocation Failure)\"    │ \"a1\"   │ \"2017-04-24T15:17:42\" │\n",
       "│ 9       │ \"GC (Allocation Failure)\"    │ \"a1\"   │ \"2017-04-24T15:17:44\" │\n",
       "│ 10      │ \"GC (Allocation Failure)\"    │ \"a1\"   │ \"2017-04-24T15:17:46\" │\n",
       "│ 11      │ \"GC (GCLocker Initiated GC)\" │ \"a1\"   │ \"2017-04-24T15:17:46\" │\n",
       "⋮\n",
       "│ 5424959 │ \"GC (Allocation Failure)\"    │ \"b991\" │ \"2017-05-06T08:50:58\" │\n",
       "│ 5424960 │ \"GC (Allocation Failure)\"    │ \"b991\" │ \"2017-05-06T08:51:17\" │\n",
       "│ 5424961 │ \"GC (Allocation Failure)\"    │ \"b991\" │ \"2017-05-06T08:51:37\" │\n",
       "│ 5424962 │ \"GC (Allocation Failure)\"    │ \"b991\" │ \"2017-05-06T08:51:55\" │\n",
       "│ 5424963 │ \"GC (Allocation Failure)\"    │ \"b991\" │ \"2017-05-06T08:52:09\" │\n",
       "│ 5424964 │ \"GC (Allocation Failure)\"    │ \"b991\" │ \"2017-05-06T08:52:40\" │\n",
       "│ 5424965 │ \"GC (Allocation Failure)\"    │ \"b991\" │ \"2017-05-06T08:53:10\" │\n",
       "│ 5424966 │ \"GC (Allocation Failure)\"    │ \"b991\" │ \"2017-05-06T08:53:41\" │\n",
       "│ 5424967 │ \"GC (Allocation Failure)\"    │ \"b991\" │ \"2017-05-06T08:54:11\" │\n",
       "│ 5424968 │ \"GC (Allocation Failure)\"    │ \"b991\" │ \"2017-05-06T08:54:41\" │\n",
       "│ 5424969 │ \"GC (Allocation Failure)\"    │ \"b991\" │ \"2017-05-06T08:55:12\" │\n",
       "│ 5424970 │ \"GC (Allocation Failure)\"    │ \"b991\" │ \"2017-05-06T08:55:43\" │"
      ]
     },
     "execution_count": 35,
     "metadata": {},
     "output_type": "execute_result"
    }
   ],
   "source": [
    "dfOld = DataFrames.readtable(\"./output_old.csv\", separator = ',', header = true)"
   ]
  },
  {
   "cell_type": "code",
   "execution_count": 36,
   "metadata": {},
   "outputs": [
    {
     "data": {
      "text/html": [
       "<table class=\"data-frame\"><thead><tr><th></th><th>Timestamp_sec_</th><th>Timestamp_unix_</th><th>Used_K_</th><th>Total_K_</th><th>Pause_sec_</th><th>GC_Type</th><th>Host</th><th>Time</th></tr></thead><tbody><tr><th>1</th><td>18.1746156</td><td>1493818673</td><td>5461376</td><td>15411904</td><td>0.0393844</td><td>GC (Allocation Failure)</td><td>a4</td><td>2017-05-03T13:37:53</td></tr><tr><th>2</th><td>20.2205313</td><td>1493818675</td><td>1929458</td><td>15411904</td><td>0.0334687</td><td>GC (CMS Initial Mark)</td><td>a4</td><td>2017-05-03T13:37:55</td></tr><tr><th>3</th><td>25.287405500000002</td><td>1493818680</td><td>5477163</td><td>15411904</td><td>0.0715945</td><td>GC (Allocation Failure)</td><td>a4</td><td>2017-05-03T13:38:00</td></tr><tr><th>4</th><td>25.4115395</td><td>1493818680</td><td>188785</td><td>15411904</td><td>0.0204605</td><td>GC (CMS Final Remark)</td><td>a4</td><td>2017-05-03T13:38:00</td></tr><tr><th>5</th><td>29.3527868</td><td>1493818684</td><td>5484248</td><td>15411904</td><td>0.0532132</td><td>GC (Allocation Failure)</td><td>a4</td><td>2017-05-03T13:38:04</td></tr><tr><th>6</th><td>33.387265199999995</td><td>1493818688</td><td>5532231</td><td>15411904</td><td>0.1197348</td><td>GC (Allocation Failure)</td><td>a4</td><td>2017-05-03T13:38:08</td></tr><tr><th>7</th><td>36.0904619</td><td>1493818691</td><td>5726473</td><td>15411904</td><td>0.2195381</td><td>GC (Allocation Failure)</td><td>a4</td><td>2017-05-03T13:38:11</td></tr><tr><th>8</th><td>36.2940551</td><td>1493818691</td><td>588564</td><td>15411904</td><td>0.2399449</td><td>GC (GCLocker Initiated GC)</td><td>a4</td><td>2017-05-03T13:38:11</td></tr><tr><th>9</th><td>39.156653000000006</td><td>1493818694</td><td>6084175</td><td>15411904</td><td>0.061347</td><td>GC (Allocation Failure)</td><td>a4</td><td>2017-05-03T13:38:14</td></tr><tr><th>10</th><td>39.1816592</td><td>1493818694</td><td>734136</td><td>15411904</td><td>0.1033408</td><td>GC (GCLocker Initiated GC)</td><td>a4</td><td>2017-05-03T13:38:14</td></tr><tr><th>11</th><td>43.6267976</td><td>1493818698</td><td>6264961</td><td>15411904</td><td>0.0592024</td><td>GC (Allocation Failure)</td><td>a4</td><td>2017-05-03T13:38:18</td></tr><tr><th>12</th><td>49.565155499999996</td><td>1493818704</td><td>6374025</td><td>15411904</td><td>0.1218445</td><td>GC (Allocation Failure)</td><td>a4</td><td>2017-05-03T13:38:24</td></tr><tr><th>13</th><td>55.742661399999996</td><td>1493818711</td><td>6462481</td><td>15411904</td><td>0.0963386</td><td>GC (Allocation Failure)</td><td>a4</td><td>2017-05-03T13:38:31</td></tr><tr><th>14</th><td>68.9512145</td><td>1493818724</td><td>6531848</td><td>15411904</td><td>0.0787855</td><td>GC (Allocation Failure)</td><td>a4</td><td>2017-05-03T13:38:44</td></tr><tr><th>15</th><td>69.0348501</td><td>1493818724</td><td>1142880</td><td>15411904</td><td>0.0791499</td><td>GC (GCLocker Initiated GC)</td><td>a4</td><td>2017-05-03T13:38:44</td></tr><tr><th>16</th><td>87.5784092</td><td>1493818742</td><td>6616158</td><td>15411904</td><td>0.0665908</td><td>GC (Allocation Failure)</td><td>a4</td><td>2017-05-03T13:39:02</td></tr><tr><th>17</th><td>87.591937</td><td>1493818742</td><td>1342626</td><td>15411904</td><td>0.125063</td><td>GC (GCLocker Initiated GC)</td><td>a4</td><td>2017-05-03T13:39:02</td></tr><tr><th>18</th><td>105.7372075</td><td>1493818761</td><td>6828490</td><td>15411904</td><td>0.0607925</td><td>GC (Allocation Failure)</td><td>a4</td><td>2017-05-03T13:39:21</td></tr><tr><th>19</th><td>124.4363908</td><td>1493818779</td><td>6969809</td><td>15411904</td><td>0.1336092</td><td>GC (Allocation Failure)</td><td>a4</td><td>2017-05-03T13:39:39</td></tr><tr><th>20</th><td>143.5540521</td><td>1493818798</td><td>7088164</td><td>15411904</td><td>0.1319479</td><td>GC (Allocation Failure)</td><td>a4</td><td>2017-05-03T13:39:58</td></tr><tr><th>21</th><td>163.9074041</td><td>1493818819</td><td>7257013</td><td>15411904</td><td>0.1295959</td><td>GC (Allocation Failure)</td><td>a4</td><td>2017-05-03T13:40:19</td></tr><tr><th>22</th><td>183.4986007</td><td>1493818838</td><td>7328435</td><td>15411904</td><td>0.1403993</td><td>GC (Allocation Failure)</td><td>a4</td><td>2017-05-03T13:40:38</td></tr><tr><th>23</th><td>201.7914421</td><td>1493818857</td><td>7488834</td><td>15411904</td><td>0.1515579</td><td>GC (Allocation Failure)</td><td>a4</td><td>2017-05-03T13:40:57</td></tr><tr><th>24</th><td>217.1435247</td><td>1493818872</td><td>7622320</td><td>15411904</td><td>0.2154753</td><td>GC (Allocation Failure)</td><td>a4</td><td>2017-05-03T13:41:12</td></tr><tr><th>25</th><td>232.2484142</td><td>1493818887</td><td>7869827</td><td>15411904</td><td>0.2245858</td><td>GC (Allocation Failure)</td><td>a4</td><td>2017-05-03T13:41:27</td></tr><tr><th>26</th><td>252.8515202</td><td>1493818908</td><td>8037625</td><td>15411904</td><td>0.0964798</td><td>GC (Allocation Failure)</td><td>a4</td><td>2017-05-03T13:41:48</td></tr><tr><th>27</th><td>273.07174840000005</td><td>1493818928</td><td>8073460</td><td>15411904</td><td>0.1122516</td><td>GC (Allocation Failure)</td><td>a4</td><td>2017-05-03T13:42:08</td></tr><tr><th>28</th><td>284.1902781</td><td>1493818939</td><td>8198316</td><td>15411904</td><td>0.1197219</td><td>GC (Allocation Failure)</td><td>a4</td><td>2017-05-03T13:42:19</td></tr><tr><th>29</th><td>284.3382181</td><td>1493818939</td><td>2906331</td><td>15411904</td><td>0.0977819</td><td>GC (GCLocker Initiated GC)</td><td>a4</td><td>2017-05-03T13:42:19</td></tr><tr><th>30</th><td>290.3564055</td><td>1493818945</td><td>8308500</td><td>15411904</td><td>0.0435945</td><td>GC (Allocation Failure)</td><td>a4</td><td>2017-05-03T13:42:25</td></tr><tr><th>&vellip;</th><td>&vellip;</td><td>&vellip;</td><td>&vellip;</td><td>&vellip;</td><td>&vellip;</td><td>&vellip;</td><td>&vellip;</td><td>&vellip;</td></tr></tbody></table>"
      ],
      "text/plain": [
       "493291×8 DataFrames.DataFrame\n",
       "│ Row    │ Timestamp_sec_ │ Timestamp_unix_ │ Used_K_  │ Total_K_ │ Pause_sec_ │\n",
       "├────────┼────────────────┼─────────────────┼──────────┼──────────┼────────────┤\n",
       "│ 1      │ 18.1746        │ 1493818673      │ 5461376  │ 15411904 │ 0.0393844  │\n",
       "│ 2      │ 20.2205        │ 1493818675      │ 1929458  │ 15411904 │ 0.0334687  │\n",
       "│ 3      │ 25.2874        │ 1493818680      │ 5477163  │ 15411904 │ 0.0715945  │\n",
       "│ 4      │ 25.4115        │ 1493818680      │ 188785   │ 15411904 │ 0.0204605  │\n",
       "│ 5      │ 29.3528        │ 1493818684      │ 5484248  │ 15411904 │ 0.0532132  │\n",
       "│ 6      │ 33.3873        │ 1493818688      │ 5532231  │ 15411904 │ 0.119735   │\n",
       "│ 7      │ 36.0905        │ 1493818691      │ 5726473  │ 15411904 │ 0.219538   │\n",
       "│ 8      │ 36.2941        │ 1493818691      │ 588564   │ 15411904 │ 0.239945   │\n",
       "│ 9      │ 39.1567        │ 1493818694      │ 6084175  │ 15411904 │ 0.061347   │\n",
       "│ 10     │ 39.1817        │ 1493818694      │ 734136   │ 15411904 │ 0.103341   │\n",
       "│ 11     │ 43.6268        │ 1493818698      │ 6264961  │ 15411904 │ 0.0592024  │\n",
       "⋮\n",
       "│ 493280 │ 1.97156e5      │ 1494013057      │ 11062212 │ 15411904 │ 0.177525   │\n",
       "│ 493281 │ 1.97171e5      │ 1494013072      │ 11384004 │ 15411904 │ 0.278791   │\n",
       "│ 493282 │ 1.97183e5      │ 1494013084      │ 11634536 │ 15411904 │ 0.105089   │\n",
       "│ 493283 │ 1.97198e5      │ 1494013099      │ 11599065 │ 15411904 │ 0.116792   │\n",
       "│ 493284 │ 1.97204e5      │ 1494013105      │ 11676138 │ 15411904 │ 0.122175   │\n",
       "│ 493285 │ 1.97216e5      │ 1494013116      │ 11746908 │ 15411904 │ 0.094779   │\n",
       "│ 493286 │ 1.97231e5      │ 1494013132      │ 11807729 │ 15411904 │ 0.132332   │\n",
       "│ 493287 │ 1.97248e5      │ 1494013149      │ 11915287 │ 15411904 │ 0.147556   │\n",
       "│ 493288 │ 1.97264e5      │ 1494013165      │ 12052142 │ 15411904 │ 0.14599    │\n",
       "│ 493289 │ 197264.0       │ 1494013165      │ 6696246  │ 15411904 │ 0.0157814  │\n",
       "│ 493290 │ 1.97269e5      │ 1494013170      │ 8673612  │ 15411904 │ 0.283587   │\n",
       "│ 493291 │ 1.9728e5       │ 1494013181      │ 6560212  │ 15411904 │ 0.127362   │\n",
       "\n",
       "│ Row    │ GC_Type                      │ Host   │ Time                  │\n",
       "├────────┼──────────────────────────────┼────────┼───────────────────────┤\n",
       "│ 1      │ \"GC (Allocation Failure)\"    │ \"a4\"   │ \"2017-05-03T13:37:53\" │\n",
       "│ 2      │ \"GC (CMS Initial Mark)\"      │ \"a4\"   │ \"2017-05-03T13:37:55\" │\n",
       "│ 3      │ \"GC (Allocation Failure)\"    │ \"a4\"   │ \"2017-05-03T13:38:00\" │\n",
       "│ 4      │ \"GC (CMS Final Remark)\"      │ \"a4\"   │ \"2017-05-03T13:38:00\" │\n",
       "│ 5      │ \"GC (Allocation Failure)\"    │ \"a4\"   │ \"2017-05-03T13:38:04\" │\n",
       "│ 6      │ \"GC (Allocation Failure)\"    │ \"a4\"   │ \"2017-05-03T13:38:08\" │\n",
       "│ 7      │ \"GC (Allocation Failure)\"    │ \"a4\"   │ \"2017-05-03T13:38:11\" │\n",
       "│ 8      │ \"GC (GCLocker Initiated GC)\" │ \"a4\"   │ \"2017-05-03T13:38:11\" │\n",
       "│ 9      │ \"GC (Allocation Failure)\"    │ \"a4\"   │ \"2017-05-03T13:38:14\" │\n",
       "│ 10     │ \"GC (GCLocker Initiated GC)\" │ \"a4\"   │ \"2017-05-03T13:38:14\" │\n",
       "│ 11     │ \"GC (Allocation Failure)\"    │ \"a4\"   │ \"2017-05-03T13:38:18\" │\n",
       "⋮\n",
       "│ 493280 │ \"GC (Allocation Failure)\"    │ \"b987\" │ \"2017-05-05T19:37:37\" │\n",
       "│ 493281 │ \"GC (Allocation Failure)\"    │ \"b987\" │ \"2017-05-05T19:37:52\" │\n",
       "│ 493282 │ \"GC (GCLocker Initiated GC)\" │ \"b987\" │ \"2017-05-05T19:38:04\" │\n",
       "│ 493283 │ \"GC (Allocation Failure)\"    │ \"b987\" │ \"2017-05-05T19:38:19\" │\n",
       "│ 493284 │ \"GC (Allocation Failure)\"    │ \"b987\" │ \"2017-05-05T19:38:25\" │\n",
       "│ 493285 │ \"GC (Allocation Failure)\"    │ \"b987\" │ \"2017-05-05T19:38:36\" │\n",
       "│ 493286 │ \"GC (Allocation Failure)\"    │ \"b987\" │ \"2017-05-05T19:38:52\" │\n",
       "│ 493287 │ \"GC (Allocation Failure)\"    │ \"b987\" │ \"2017-05-05T19:39:09\" │\n",
       "│ 493288 │ \"GC (Allocation Failure)\"    │ \"b987\" │ \"2017-05-05T19:39:25\" │\n",
       "│ 493289 │ \"GC (CMS Initial Mark)\"      │ \"b987\" │ \"2017-05-05T19:39:25\" │\n",
       "│ 493290 │ \"GC (CMS Final Remark)\"      │ \"b987\" │ \"2017-05-05T19:39:30\" │\n",
       "│ 493291 │ \"GC (Allocation Failure)\"    │ \"b987\" │ \"2017-05-05T19:39:41\" │"
      ]
     },
     "execution_count": 36,
     "metadata": {},
     "output_type": "execute_result"
    }
   ],
   "source": [
    "dfNew = DataFrames.readtable(\"./output_new.csv\", separator = ',', header = true)"
   ]
  },
  {
   "cell_type": "code",
   "execution_count": 72,
   "metadata": {},
   "outputs": [],
   "source": [
    "using DataFrames\n",
    "using Plots\n",
    "using Plotly"
   ]
  },
  {
   "cell_type": "code",
   "execution_count": 38,
   "metadata": {},
   "outputs": [
    {
     "name": "stderr",
     "output_type": "stream",
     "text": [
      "WARNING: Method definition dfFromHost(Any, Any) in module Main at In[8]:2 overwritten at In[38]:2.\n"
     ]
    },
    {
     "data": {
      "text/plain": [
       "dfFromHost (generic function with 1 method)"
      ]
     },
     "execution_count": 38,
     "metadata": {},
     "output_type": "execute_result"
    }
   ],
   "source": [
    "function dfFromHost(df, host)\n",
    "    df[df[:,:Host].==host, :]\n",
    "end"
   ]
  },
  {
   "cell_type": "code",
   "execution_count": 39,
   "metadata": {},
   "outputs": [
    {
     "name": "stderr",
     "output_type": "stream",
     "text": [
      "WARNING: Method definition dfMoreThan(Any, Any) in module Main at In[9]:2 overwritten at In[39]:2.\n"
     ]
    },
    {
     "data": {
      "text/plain": [
       "dfMoreThan (generic function with 1 method)"
      ]
     },
     "execution_count": 39,
     "metadata": {},
     "output_type": "execute_result"
    }
   ],
   "source": [
    "function dfMoreThan(df, sec)\n",
    "    df[df[:,:Pause_sec_].>sec, :]\n",
    "end"
   ]
  },
  {
   "cell_type": "code",
   "execution_count": 73,
   "metadata": {},
   "outputs": [
    {
     "ename": "LoadError",
     "evalue": "UndefVarError: gr not defined",
     "output_type": "error",
     "traceback": [
      "UndefVarError: gr not defined",
      ""
     ]
    }
   ],
   "source": [
    "using Plots\n",
    "gr()"
   ]
  },
  {
   "cell_type": "code",
   "execution_count": 41,
   "metadata": {},
   "outputs": [
    {
     "ename": "LoadError",
     "evalue": "UndefVarError: default not defined",
     "output_type": "error",
     "traceback": [
      "UndefVarError: default not defined",
      ""
     ]
    }
   ],
   "source": [
    "default(guidefont = font(20), tickfont = font(15))\n",
    "\n"
   ]
  },
  {
   "cell_type": "code",
   "execution_count": 42,
   "metadata": {
    "scrolled": false
   },
   "outputs": [
    {
     "name": "stdout",
     "output_type": "stream",
     "text": [
      "Timestamp_sec_\n",
      "Summary Stats:\n",
      "Mean:           63168.203046\n",
      "Minimum:        591.243444\n",
      "1st Quartile:   18644.367781\n",
      "Median:         25860.664050\n",
      "3rd Quartile:   106845.132053\n",
      "Maximum:        194579.376363\n",
      "Length:         95\n",
      "Type:           Float64\n",
      "\n",
      "Timestamp_unix_\n",
      "Summary Stats:\n",
      "Mean:           1493885264.484210\n",
      "Minimum:        1493817914.000000\n",
      "1st Quartile:   1493835212.000000\n",
      "Median:         1493844538.000000\n",
      "3rd Quartile:   1493928366.500000\n",
      "Maximum:        1494012316.000000\n",
      "Length:         95\n",
      "Type:           Int64\n",
      "\n",
      "Used_K_\n",
      "Summary Stats:\n",
      "Mean:           9725600.578947\n",
      "Minimum:        6185226.000000\n",
      "1st Quartile:   8332780.500000\n",
      "Median:         9705477.000000\n",
      "3rd Quartile:   11472985.000000\n",
      "Maximum:        12505334.000000\n",
      "Length:         95\n",
      "Type:           Int64\n",
      "\n",
      "Total_K_\n",
      "Summary Stats:\n",
      "Mean:           15411904.000000\n",
      "Minimum:        15411904.000000\n",
      "1st Quartile:   15411904.000000\n",
      "Median:         15411904.000000\n",
      "3rd Quartile:   15411904.000000\n",
      "Maximum:        15411904.000000\n",
      "Length:         95\n",
      "Type:           Int64\n",
      "\n",
      "Pause_sec_\n",
      "Summary Stats:\n",
      "Mean:           2.877301\n",
      "Minimum:        1.050789\n",
      "1st Quartile:   2.016789\n",
      "Median:         2.254735\n",
      "3rd Quartile:   4.221353\n",
      "Maximum:        8.157092\n",
      "Length:         95\n",
      "Type:           Float64\n",
      "\n",
      "GC_Type\n",
      "Summary Stats:\n",
      "Length:         95\n",
      "Type:           String\n",
      "Number Unique:  3\n",
      "\n",
      "Host\n",
      "Summary Stats:\n",
      "Length:         95\n",
      "Type:           String\n",
      "Number Unique:  17\n",
      "\n",
      "Time\n",
      "Summary Stats:\n",
      "Length:         95\n",
      "Type:           String\n",
      "Number Unique:  95\n",
      "\n"
     ]
    }
   ],
   "source": [
    "describe(dfMoreThan(dfNew, 1))"
   ]
  },
  {
   "cell_type": "code",
   "execution_count": 43,
   "metadata": {},
   "outputs": [
    {
     "ename": "LoadError",
     "evalue": "UndefVarError: histogram not defined",
     "output_type": "error",
     "traceback": [
      "UndefVarError: histogram not defined",
      ""
     ]
    }
   ],
   "source": [
    "Plots.histogram(convert(Array, dfMoreThan(dfNew, 1)[:, :Pause_sec_]), nbins=500)"
   ]
  },
  {
   "cell_type": "code",
   "execution_count": 44,
   "metadata": {},
   "outputs": [
    {
     "ename": "LoadError",
     "evalue": "UndefVarError: histogram not defined",
     "output_type": "error",
     "traceback": [
      "UndefVarError: histogram not defined",
      ""
     ]
    }
   ],
   "source": [
    "Plots.histogram(convert(Array, dfMoreThan(dfOld, 0)[:, :Pause_sec_]), nbins=500)"
   ]
  },
  {
   "cell_type": "code",
   "execution_count": 45,
   "metadata": {},
   "outputs": [
    {
     "ename": "LoadError",
     "evalue": "UndefVarError: histogram not defined",
     "output_type": "error",
     "traceback": [
      "UndefVarError: histogram not defined",
      ""
     ]
    }
   ],
   "source": [
    "Plots.histogram(convert(Array, dfMoreThan(dfOld, 1)[:, :Pause_sec_]), nbins=500)"
   ]
  },
  {
   "cell_type": "code",
   "execution_count": 46,
   "metadata": {},
   "outputs": [
    {
     "ename": "LoadError",
     "evalue": "UndefVarError: histogram not defined",
     "output_type": "error",
     "traceback": [
      "UndefVarError: histogram not defined",
      ""
     ]
    }
   ],
   "source": [
    "Plots.histogram(convert(Array, dfMoreThan(dfNew, 1)[:, :Pause_sec_]), nbins=500)"
   ]
  },
  {
   "cell_type": "code",
   "execution_count": 47,
   "metadata": {},
   "outputs": [
    {
     "data": {
      "text/html": [
       "<table class=\"data-frame\"><thead><tr><th></th><th>Timestamp_sec_</th><th>Timestamp_unix_</th><th>Used_K_</th><th>Total_K_</th><th>Pause_sec_</th><th>GC_Type</th><th>Host</th><th>Time</th></tr></thead><tbody><tr><th>1</th><td>193127.73986570002</td><td>1493240172</td><td>7999522</td><td>12268352</td><td>7.0851343</td><td>GC (Allocation Failure)</td><td>a1</td><td>2017-04-26T20:56:12</td></tr><tr><th>2</th><td>428361.1272403</td><td>1493475406</td><td>8036717</td><td>12268352</td><td>7.0337597</td><td>GC (Allocation Failure)</td><td>a1</td><td>2017-04-29T14:16:46</td></tr><tr><th>3</th><td>667840.1946548</td><td>1493714885</td><td>9446887</td><td>12268352</td><td>7.1493452</td><td>GC (Allocation Failure)</td><td>a1</td><td>2017-05-02T08:48:05</td></tr><tr><th>4</th><td>173647.4401286</td><td>1493220373</td><td>9598985</td><td>12268352</td><td>7.1198714</td><td>GC (Allocation Failure)</td><td>a6</td><td>2017-04-26T15:26:13</td></tr><tr><th>5</th><td>407140.6505525</td><td>1493453866</td><td>7461834</td><td>12268352</td><td>7.1434475</td><td>GC (Allocation Failure)</td><td>a6</td><td>2017-04-29T08:17:46</td></tr><tr><th>6</th><td>694774.1987722999</td><td>1493741499</td><td>4914398</td><td>12268352</td><td>7.0652277</td><td>GC (Allocation Failure)</td><td>a6</td><td>2017-05-02T16:11:39</td></tr><tr><th>7</th><td>718253.5614076001</td><td>1493760063</td><td>4332159</td><td>12268352</td><td>14.3655924</td><td>GC (Allocation Failure)</td><td>a9742</td><td>2017-05-02T21:21:03</td></tr><tr><th>8</th><td>970071.8166417</td><td>1494009973</td><td>4526560</td><td>12268352</td><td>13.3233583</td><td>GC (Allocation Failure)</td><td>b2194</td><td>2017-05-05T18:46:13</td></tr><tr><th>9</th><td>696418.8891704</td><td>1493737763</td><td>6619905</td><td>12268352</td><td>10.8428296</td><td>Full GC (GCLocker Initiated GC)</td><td>b3981</td><td>2017-05-02T15:09:23</td></tr><tr><th>10</th><td>696057.866812</td><td>1493737572</td><td>5090210</td><td>12268352</td><td>14.536188</td><td>GC (Allocation Failure)</td><td>b892</td><td>2017-05-02T15:06:12</td></tr></tbody></table>"
      ],
      "text/plain": [
       "10×8 DataFrames.DataFrame\n",
       "│ Row │ Timestamp_sec_ │ Timestamp_unix_ │ Used_K_ │ Total_K_ │ Pause_sec_ │\n",
       "├─────┼────────────────┼─────────────────┼─────────┼──────────┼────────────┤\n",
       "│ 1   │ 1.93128e5      │ 1493240172      │ 7999522 │ 12268352 │ 7.08513    │\n",
       "│ 2   │ 4.28361e5      │ 1493475406      │ 8036717 │ 12268352 │ 7.03376    │\n",
       "│ 3   │ 6.6784e5       │ 1493714885      │ 9446887 │ 12268352 │ 7.14935    │\n",
       "│ 4   │ 1.73647e5      │ 1493220373      │ 9598985 │ 12268352 │ 7.11987    │\n",
       "│ 5   │ 4.07141e5      │ 1493453866      │ 7461834 │ 12268352 │ 7.14345    │\n",
       "│ 6   │ 6.94774e5      │ 1493741499      │ 4914398 │ 12268352 │ 7.06523    │\n",
       "│ 7   │ 7.18254e5      │ 1493760063      │ 4332159 │ 12268352 │ 14.3656    │\n",
       "│ 8   │ 9.70072e5      │ 1494009973      │ 4526560 │ 12268352 │ 13.3234    │\n",
       "│ 9   │ 6.96419e5      │ 1493737763      │ 6619905 │ 12268352 │ 10.8428    │\n",
       "│ 10  │ 6.96058e5      │ 1493737572      │ 5090210 │ 12268352 │ 14.5362    │\n",
       "\n",
       "│ Row │ GC_Type                           │ Host    │ Time                  │\n",
       "├─────┼───────────────────────────────────┼─────────┼───────────────────────┤\n",
       "│ 1   │ \"GC (Allocation Failure)\"         │ \"a1\"    │ \"2017-04-26T20:56:12\" │\n",
       "│ 2   │ \"GC (Allocation Failure)\"         │ \"a1\"    │ \"2017-04-29T14:16:46\" │\n",
       "│ 3   │ \"GC (Allocation Failure)\"         │ \"a1\"    │ \"2017-05-02T08:48:05\" │\n",
       "│ 4   │ \"GC (Allocation Failure)\"         │ \"a6\"    │ \"2017-04-26T15:26:13\" │\n",
       "│ 5   │ \"GC (Allocation Failure)\"         │ \"a6\"    │ \"2017-04-29T08:17:46\" │\n",
       "│ 6   │ \"GC (Allocation Failure)\"         │ \"a6\"    │ \"2017-05-02T16:11:39\" │\n",
       "│ 7   │ \"GC (Allocation Failure)\"         │ \"a9742\" │ \"2017-05-02T21:21:03\" │\n",
       "│ 8   │ \"GC (Allocation Failure)\"         │ \"b2194\" │ \"2017-05-05T18:46:13\" │\n",
       "│ 9   │ \"Full GC (GCLocker Initiated GC)\" │ \"b3981\" │ \"2017-05-02T15:09:23\" │\n",
       "│ 10  │ \"GC (Allocation Failure)\"         │ \"b892\"  │ \"2017-05-02T15:06:12\" │"
      ]
     },
     "execution_count": 47,
     "metadata": {},
     "output_type": "execute_result"
    }
   ],
   "source": [
    "dfMoreThan(dfOld, 7)"
   ]
  },
  {
   "cell_type": "code",
   "execution_count": 48,
   "metadata": {
    "scrolled": true
   },
   "outputs": [
    {
     "data": {
      "text/html": [
       "<table class=\"data-frame\"><thead><tr><th></th><th>Timestamp_sec_</th><th>Timestamp_unix_</th><th>Used_K_</th><th>Total_K_</th><th>Pause_sec_</th><th>GC_Type</th><th>Host</th><th>Time</th></tr></thead><tbody><tr><th>1</th><td>25847.594049299998</td><td>1493844558</td><td>9988469</td><td>15411904</td><td>7.3619507</td><td>GC (Allocation Failure)</td><td>a5</td><td>2017-05-03T20:49:18</td></tr><tr><th>2</th><td>25860.6640501</td><td>1493844571</td><td>10636676</td><td>15411904</td><td>7.2239499</td><td>GC (Allocation Failure)</td><td>a5</td><td>2017-05-03T20:49:31</td></tr><tr><th>3</th><td>19357.5250056</td><td>1493838149</td><td>10516705</td><td>15411904</td><td>7.8639944</td><td>GC (Allocation Failure)</td><td>a8632</td><td>2017-05-03T19:02:29</td></tr><tr><th>4</th><td>19372.4009077</td><td>1493838164</td><td>11036589</td><td>15411904</td><td>8.1570923</td><td>GC (Allocation Failure)</td><td>a8632</td><td>2017-05-03T19:02:44</td></tr><tr><th>5</th><td>23116.593560100002</td><td>1493841908</td><td>8781433</td><td>15411904</td><td>8.0564399</td><td>GC (Allocation Failure)</td><td>a8632</td><td>2017-05-03T20:05:08</td></tr><tr><th>6</th><td>23130.9654745</td><td>1493841923</td><td>9516341</td><td>15411904</td><td>7.8985255</td><td>GC (Allocation Failure)</td><td>a8632</td><td>2017-05-03T20:05:23</td></tr></tbody></table>"
      ],
      "text/plain": [
       "6×8 DataFrames.DataFrame\n",
       "│ Row │ Timestamp_sec_ │ Timestamp_unix_ │ Used_K_  │ Total_K_ │ Pause_sec_ │\n",
       "├─────┼────────────────┼─────────────────┼──────────┼──────────┼────────────┤\n",
       "│ 1   │ 25847.6        │ 1493844558      │ 9988469  │ 15411904 │ 7.36195    │\n",
       "│ 2   │ 25860.7        │ 1493844571      │ 10636676 │ 15411904 │ 7.22395    │\n",
       "│ 3   │ 19357.5        │ 1493838149      │ 10516705 │ 15411904 │ 7.86399    │\n",
       "│ 4   │ 19372.4        │ 1493838164      │ 11036589 │ 15411904 │ 8.15709    │\n",
       "│ 5   │ 23116.6        │ 1493841908      │ 8781433  │ 15411904 │ 8.05644    │\n",
       "│ 6   │ 23131.0        │ 1493841923      │ 9516341  │ 15411904 │ 7.89853    │\n",
       "\n",
       "│ Row │ GC_Type                   │ Host    │ Time                  │\n",
       "├─────┼───────────────────────────┼─────────┼───────────────────────┤\n",
       "│ 1   │ \"GC (Allocation Failure)\" │ \"a5\"    │ \"2017-05-03T20:49:18\" │\n",
       "│ 2   │ \"GC (Allocation Failure)\" │ \"a5\"    │ \"2017-05-03T20:49:31\" │\n",
       "│ 3   │ \"GC (Allocation Failure)\" │ \"a8632\" │ \"2017-05-03T19:02:29\" │\n",
       "│ 4   │ \"GC (Allocation Failure)\" │ \"a8632\" │ \"2017-05-03T19:02:44\" │\n",
       "│ 5   │ \"GC (Allocation Failure)\" │ \"a8632\" │ \"2017-05-03T20:05:08\" │\n",
       "│ 6   │ \"GC (Allocation Failure)\" │ \"a8632\" │ \"2017-05-03T20:05:23\" │"
      ]
     },
     "execution_count": 48,
     "metadata": {},
     "output_type": "execute_result"
    }
   ],
   "source": [
    "dfMoreThan(dfNew, 7)"
   ]
  },
  {
   "cell_type": "code",
   "execution_count": 49,
   "metadata": {},
   "outputs": [
    {
     "name": "stdout",
     "output_type": "stream",
     "text": [
      "Summary Stats:\n",
      "Mean:           2.055222\n",
      "Minimum:        1.001903\n",
      "1st Quartile:   1.139713\n",
      "Median:         1.786307\n",
      "3rd Quartile:   2.275213\n",
      "Maximum:        14.536188\n",
      "Length:         826\n",
      "Type:           Float64\n"
     ]
    }
   ],
   "source": [
    "describe(dfMoreThan(dfOld, 1)[:, :Pause_sec_])"
   ]
  },
  {
   "cell_type": "code",
   "execution_count": 50,
   "metadata": {},
   "outputs": [
    {
     "name": "stdout",
     "output_type": "stream",
     "text": [
      "Summary Stats:\n",
      "Mean:           2.877301\n",
      "Minimum:        1.050789\n",
      "1st Quartile:   2.016789\n",
      "Median:         2.254735\n",
      "3rd Quartile:   4.221353\n",
      "Maximum:        8.157092\n",
      "Length:         95\n",
      "Type:           Float64\n"
     ]
    }
   ],
   "source": [
    "describe(dfMoreThan(dfNew, 1)[:, :Pause_sec_])"
   ]
  },
  {
   "cell_type": "code",
   "execution_count": 51,
   "metadata": {},
   "outputs": [
    {
     "name": "stdout",
     "output_type": "stream",
     "text": [
      "Summary Stats:\n",
      "Mean:           0.127490\n",
      "Minimum:        0.001405\n",
      "1st Quartile:   0.086429\n",
      "Median:         0.107193\n",
      "3rd Quartile:   0.157737\n",
      "Maximum:        8.157092\n",
      "Length:         493291\n",
      "Type:           Float64\n"
     ]
    }
   ],
   "source": [
    "describe(dfMoreThan(dfNew, 0)[:, :Pause_sec_])"
   ]
  },
  {
   "cell_type": "code",
   "execution_count": 52,
   "metadata": {},
   "outputs": [
    {
     "name": "stdout",
     "output_type": "stream",
     "text": [
      "Summary Stats:\n",
      "Mean:           0.076923\n",
      "Minimum:        0.001344\n",
      "1st Quartile:   0.052374\n",
      "Median:         0.065324\n",
      "3rd Quartile:   0.086498\n",
      "Maximum:        14.536188\n",
      "Length:         5424970\n",
      "Type:           Float64\n"
     ]
    }
   ],
   "source": [
    "describe(dfMoreThan(dfOld, 0)[:, :Pause_sec_])"
   ]
  },
  {
   "cell_type": "code",
   "execution_count": 53,
   "metadata": {},
   "outputs": [
    {
     "name": "stdout",
     "output_type": "stream",
     "text": [
      "Summary Stats:\n",
      "Mean:           0.126708\n",
      "Minimum:        0.002184\n",
      "1st Quartile:   0.088263\n",
      "Median:         0.108498\n",
      "3rd Quartile:   0.153483\n",
      "Maximum:        4.319381\n",
      "Length:         5203\n",
      "Type:           Float64\n"
     ]
    }
   ],
   "source": [
    "describe(dfFromHost(dfMoreThan(dfNew, 0), \"b9182\")[:, :Pause_sec_])"
   ]
  },
  {
   "cell_type": "code",
   "execution_count": 54,
   "metadata": {},
   "outputs": [
    {
     "ename": "LoadError",
     "evalue": "UndefVarError: histogram not defined",
     "output_type": "error",
     "traceback": [
      "UndefVarError: histogram not defined",
      ""
     ]
    }
   ],
   "source": [
    "Plots.histogram(convert(Array, dfFromHost(dfMoreThan(dfNew, 0), \"b9182\")[:, :Pause_sec_]), nbins=500)"
   ]
  },
  {
   "cell_type": "code",
   "execution_count": null,
   "metadata": {
    "collapsed": true
   },
   "outputs": [],
   "source": []
  },
  {
   "cell_type": "code",
   "execution_count": 55,
   "metadata": {},
   "outputs": [
    {
     "name": "stdout",
     "output_type": "stream",
     "text": [
      "Summary Stats:\n",
      "Mean:           0.126708\n",
      "Minimum:        0.002184\n",
      "1st Quartile:   0.088263\n",
      "Median:         0.108498\n",
      "3rd Quartile:   0.153483\n",
      "Maximum:        4.319381\n",
      "Length:         5203\n",
      "Type:           Float64\n"
     ]
    }
   ],
   "source": [
    "describe(dfFromHost(dfMoreThan(dfNew, 0), \"b9182\")[:, :Pause_sec_])"
   ]
  },
  {
   "cell_type": "code",
   "execution_count": 56,
   "metadata": {},
   "outputs": [
    {
     "data": {
      "text/html": [
       "<table class=\"data-frame\"><thead><tr><th></th><th>Timestamp_sec_</th><th>Timestamp_unix_</th><th>Used_K_</th><th>Total_K_</th><th>Pause_sec_</th><th>GC_Type</th><th>Host</th><th>Time</th></tr></thead><tbody><tr><th>1</th><td>52342.4748829</td><td>1493978033</td><td>8918440</td><td>15411904</td><td>4.2171171</td><td>GC (Allocation Failure)</td><td>b9182</td><td>2017-05-05T09:53:53</td></tr><tr><th>2</th><td>52362.5716191</td><td>1493978053</td><td>9091176</td><td>15411904</td><td>4.3193809</td><td>GC (Allocation Failure)</td><td>b9182</td><td>2017-05-05T09:54:13</td></tr></tbody></table>"
      ],
      "text/plain": [
       "2×8 DataFrames.DataFrame\n",
       "│ Row │ Timestamp_sec_ │ Timestamp_unix_ │ Used_K_ │ Total_K_ │ Pause_sec_ │\n",
       "├─────┼────────────────┼─────────────────┼─────────┼──────────┼────────────┤\n",
       "│ 1   │ 52342.5        │ 1493978033      │ 8918440 │ 15411904 │ 4.21712    │\n",
       "│ 2   │ 52362.6        │ 1493978053      │ 9091176 │ 15411904 │ 4.31938    │\n",
       "\n",
       "│ Row │ GC_Type                   │ Host    │ Time                  │\n",
       "├─────┼───────────────────────────┼─────────┼───────────────────────┤\n",
       "│ 1   │ \"GC (Allocation Failure)\" │ \"b9182\" │ \"2017-05-05T09:53:53\" │\n",
       "│ 2   │ \"GC (Allocation Failure)\" │ \"b9182\" │ \"2017-05-05T09:54:13\" │"
      ]
     },
     "execution_count": 56,
     "metadata": {},
     "output_type": "execute_result"
    }
   ],
   "source": [
    "dfFromHost(dfMoreThan(dfNew, 4), \"b9182\")"
   ]
  },
  {
   "cell_type": "code",
   "execution_count": 57,
   "metadata": {},
   "outputs": [
    {
     "data": {
      "text/html": [
       "<table class=\"data-frame\"><thead><tr><th></th><th>Timestamp_sec_</th><th>Timestamp_unix_</th><th>Used_K_</th><th>Total_K_</th><th>Pause_sec_</th><th>GC_Type</th><th>Host</th><th>Time</th></tr></thead><tbody><tr><th>1</th><td>25847.594049299998</td><td>1493844558</td><td>9988469</td><td>15411904</td><td>7.3619507</td><td>GC (Allocation Failure)</td><td>a5</td><td>2017-05-03T20:49:18</td></tr><tr><th>2</th><td>25860.6640501</td><td>1493844571</td><td>10636676</td><td>15411904</td><td>7.2239499</td><td>GC (Allocation Failure)</td><td>a5</td><td>2017-05-03T20:49:31</td></tr><tr><th>3</th><td>19357.5250056</td><td>1493838149</td><td>10516705</td><td>15411904</td><td>7.8639944</td><td>GC (Allocation Failure)</td><td>a8632</td><td>2017-05-03T19:02:29</td></tr><tr><th>4</th><td>19372.4009077</td><td>1493838164</td><td>11036589</td><td>15411904</td><td>8.1570923</td><td>GC (Allocation Failure)</td><td>a8632</td><td>2017-05-03T19:02:44</td></tr><tr><th>5</th><td>23116.593560100002</td><td>1493841908</td><td>8781433</td><td>15411904</td><td>8.0564399</td><td>GC (Allocation Failure)</td><td>a8632</td><td>2017-05-03T20:05:08</td></tr><tr><th>6</th><td>23130.9654745</td><td>1493841923</td><td>9516341</td><td>15411904</td><td>7.8985255</td><td>GC (Allocation Failure)</td><td>a8632</td><td>2017-05-03T20:05:23</td></tr><tr><th>7</th><td>18657.6516085</td><td>1493835246</td><td>7229174</td><td>15411904</td><td>4.2793915</td><td>GC (Allocation Failure)</td><td>a4397</td><td>2017-05-03T18:14:06</td></tr><tr><th>8</th><td>18675.090795</td><td>1493835263</td><td>7865945</td><td>15411904</td><td>4.317205</td><td>GC (GCLocker Initiated GC)</td><td>a4397</td><td>2017-05-03T18:14:23</td></tr><tr><th>9</th><td>17459.421896300002</td><td>1493835197</td><td>11884730</td><td>15411904</td><td>4.4441037</td><td>GC (Allocation Failure)</td><td>a8</td><td>2017-05-03T18:13:17</td></tr><tr><th>10</th><td>17469.3438895</td><td>1493835206</td><td>12429289</td><td>15411904</td><td>4.3681105</td><td>GC (Allocation Failure)</td><td>a8</td><td>2017-05-03T18:13:26</td></tr><tr><th>11</th><td>22516.7758188</td><td>1493840254</td><td>11897470</td><td>15411904</td><td>4.2371812</td><td>GC (GCLocker Initiated GC)</td><td>a8</td><td>2017-05-03T19:37:34</td></tr><tr><th>12</th><td>22527.5855285</td><td>1493840265</td><td>12505334</td><td>15411904</td><td>4.3704715</td><td>GC (Allocation Failure)</td><td>a8</td><td>2017-05-03T19:37:45</td></tr><tr><th>13</th><td>87712.7504626</td><td>1493905450</td><td>11089400</td><td>15411904</td><td>4.2475374</td><td>GC (Allocation Failure)</td><td>a8</td><td>2017-05-04T13:44:10</td></tr><tr><th>14</th><td>87722.4034104</td><td>1493905459</td><td>11738460</td><td>15411904</td><td>4.2255896</td><td>GC (Allocation Failure)</td><td>a8</td><td>2017-05-04T13:44:19</td></tr><tr><th>15</th><td>134110.95312310001</td><td>1493951848</td><td>11768893</td><td>15411904</td><td>4.1218769</td><td>GC (Allocation Failure)</td><td>a8</td><td>2017-05-05T02:37:28</td></tr><tr><th>16</th><td>134120.7576903</td><td>1493951858</td><td>12259266</td><td>15411904</td><td>4.3983097</td><td>GC (Allocation Failure)</td><td>a8</td><td>2017-05-05T02:37:38</td></tr><tr><th>17</th><td>194569.54129929998</td><td>1494012307</td><td>9354939</td><td>15411904</td><td>4.4137007</td><td>GC (Allocation Failure)</td><td>a8</td><td>2017-05-05T19:25:07</td></tr><tr><th>18</th><td>194579.37636290002</td><td>1494012316</td><td>9633841</td><td>15411904</td><td>4.3426371</td><td>GC (Allocation Failure)</td><td>a8</td><td>2017-05-05T19:25:16</td></tr><tr><th>19</th><td>10843.8456826</td><td>1493828830</td><td>7586024</td><td>15411904</td><td>4.3743174</td><td>GC (Allocation Failure)</td><td>b2618</td><td>2017-05-03T16:27:10</td></tr><tr><th>20</th><td>10853.1984383</td><td>1493828839</td><td>8129931</td><td>15411904</td><td>4.3525617</td><td>GC (Allocation Failure)</td><td>b2618</td><td>2017-05-03T16:27:19</td></tr><tr><th>21</th><td>106861.9299647</td><td>1493923167</td><td>8439114</td><td>15411904</td><td>4.4590353</td><td>GC (Allocation Failure)</td><td>b4597</td><td>2017-05-04T18:39:27</td></tr><tr><th>22</th><td>106880.3282216</td><td>1493923185</td><td>9127240</td><td>15411904</td><td>4.3407784</td><td>GC (Allocation Failure)</td><td>b4597</td><td>2017-05-04T18:39:45</td></tr><tr><th>23</th><td>18648.5104642</td><td>1493834887</td><td>8800125</td><td>15411904</td><td>4.4355358</td><td>GC (Allocation Failure)</td><td>b5417</td><td>2017-05-03T18:08:07</td></tr><tr><th>24</th><td>18659.7927652</td><td>1493834898</td><td>9424262</td><td>15411904</td><td>4.2792348</td><td>GC (Allocation Failure)</td><td>b5417</td><td>2017-05-03T18:08:18</td></tr><tr><th>25</th><td>52342.4748829</td><td>1493978033</td><td>8918440</td><td>15411904</td><td>4.2171171</td><td>GC (Allocation Failure)</td><td>b9182</td><td>2017-05-05T09:53:53</td></tr><tr><th>26</th><td>52362.5716191</td><td>1493978053</td><td>9091176</td><td>15411904</td><td>4.3193809</td><td>GC (Allocation Failure)</td><td>b9182</td><td>2017-05-05T09:54:13</td></tr></tbody></table>"
      ],
      "text/plain": [
       "26×8 DataFrames.DataFrame\n",
       "│ Row │ Timestamp_sec_ │ Timestamp_unix_ │ Used_K_  │ Total_K_ │ Pause_sec_ │\n",
       "├─────┼────────────────┼─────────────────┼──────────┼──────────┼────────────┤\n",
       "│ 1   │ 25847.6        │ 1493844558      │ 9988469  │ 15411904 │ 7.36195    │\n",
       "│ 2   │ 25860.7        │ 1493844571      │ 10636676 │ 15411904 │ 7.22395    │\n",
       "│ 3   │ 19357.5        │ 1493838149      │ 10516705 │ 15411904 │ 7.86399    │\n",
       "│ 4   │ 19372.4        │ 1493838164      │ 11036589 │ 15411904 │ 8.15709    │\n",
       "│ 5   │ 23116.6        │ 1493841908      │ 8781433  │ 15411904 │ 8.05644    │\n",
       "│ 6   │ 23131.0        │ 1493841923      │ 9516341  │ 15411904 │ 7.89853    │\n",
       "│ 7   │ 18657.7        │ 1493835246      │ 7229174  │ 15411904 │ 4.27939    │\n",
       "│ 8   │ 18675.1        │ 1493835263      │ 7865945  │ 15411904 │ 4.31721    │\n",
       "│ 9   │ 17459.4        │ 1493835197      │ 11884730 │ 15411904 │ 4.4441     │\n",
       "│ 10  │ 17469.3        │ 1493835206      │ 12429289 │ 15411904 │ 4.36811    │\n",
       "│ 11  │ 22516.8        │ 1493840254      │ 11897470 │ 15411904 │ 4.23718    │\n",
       "⋮\n",
       "│ 15  │ 134111.0       │ 1493951848      │ 11768893 │ 15411904 │ 4.12188    │\n",
       "│ 16  │ 1.34121e5      │ 1493951858      │ 12259266 │ 15411904 │ 4.39831    │\n",
       "│ 17  │ 1.9457e5       │ 1494012307      │ 9354939  │ 15411904 │ 4.4137     │\n",
       "│ 18  │ 1.94579e5      │ 1494012316      │ 9633841  │ 15411904 │ 4.34264    │\n",
       "│ 19  │ 10843.8        │ 1493828830      │ 7586024  │ 15411904 │ 4.37432    │\n",
       "│ 20  │ 10853.2        │ 1493828839      │ 8129931  │ 15411904 │ 4.35256    │\n",
       "│ 21  │ 1.06862e5      │ 1493923167      │ 8439114  │ 15411904 │ 4.45904    │\n",
       "│ 22  │ 1.0688e5       │ 1493923185      │ 9127240  │ 15411904 │ 4.34078    │\n",
       "│ 23  │ 18648.5        │ 1493834887      │ 8800125  │ 15411904 │ 4.43554    │\n",
       "│ 24  │ 18659.8        │ 1493834898      │ 9424262  │ 15411904 │ 4.27923    │\n",
       "│ 25  │ 52342.5        │ 1493978033      │ 8918440  │ 15411904 │ 4.21712    │\n",
       "│ 26  │ 52362.6        │ 1493978053      │ 9091176  │ 15411904 │ 4.31938    │\n",
       "\n",
       "│ Row │ GC_Type                      │ Host    │ Time                  │\n",
       "├─────┼──────────────────────────────┼─────────┼───────────────────────┤\n",
       "│ 1   │ \"GC (Allocation Failure)\"    │ \"a5\"    │ \"2017-05-03T20:49:18\" │\n",
       "│ 2   │ \"GC (Allocation Failure)\"    │ \"a5\"    │ \"2017-05-03T20:49:31\" │\n",
       "│ 3   │ \"GC (Allocation Failure)\"    │ \"a8632\" │ \"2017-05-03T19:02:29\" │\n",
       "│ 4   │ \"GC (Allocation Failure)\"    │ \"a8632\" │ \"2017-05-03T19:02:44\" │\n",
       "│ 5   │ \"GC (Allocation Failure)\"    │ \"a8632\" │ \"2017-05-03T20:05:08\" │\n",
       "│ 6   │ \"GC (Allocation Failure)\"    │ \"a8632\" │ \"2017-05-03T20:05:23\" │\n",
       "│ 7   │ \"GC (Allocation Failure)\"    │ \"a4397\" │ \"2017-05-03T18:14:06\" │\n",
       "│ 8   │ \"GC (GCLocker Initiated GC)\" │ \"a4397\" │ \"2017-05-03T18:14:23\" │\n",
       "│ 9   │ \"GC (Allocation Failure)\"    │ \"a8\"    │ \"2017-05-03T18:13:17\" │\n",
       "│ 10  │ \"GC (Allocation Failure)\"    │ \"a8\"    │ \"2017-05-03T18:13:26\" │\n",
       "│ 11  │ \"GC (GCLocker Initiated GC)\" │ \"a8\"    │ \"2017-05-03T19:37:34\" │\n",
       "⋮\n",
       "│ 15  │ \"GC (Allocation Failure)\"    │ \"a8\"    │ \"2017-05-05T02:37:28\" │\n",
       "│ 16  │ \"GC (Allocation Failure)\"    │ \"a8\"    │ \"2017-05-05T02:37:38\" │\n",
       "│ 17  │ \"GC (Allocation Failure)\"    │ \"a8\"    │ \"2017-05-05T19:25:07\" │\n",
       "│ 18  │ \"GC (Allocation Failure)\"    │ \"a8\"    │ \"2017-05-05T19:25:16\" │\n",
       "│ 19  │ \"GC (Allocation Failure)\"    │ \"b2618\" │ \"2017-05-03T16:27:10\" │\n",
       "│ 20  │ \"GC (Allocation Failure)\"    │ \"b2618\" │ \"2017-05-03T16:27:19\" │\n",
       "│ 21  │ \"GC (Allocation Failure)\"    │ \"b4597\" │ \"2017-05-04T18:39:27\" │\n",
       "│ 22  │ \"GC (Allocation Failure)\"    │ \"b4597\" │ \"2017-05-04T18:39:45\" │\n",
       "│ 23  │ \"GC (Allocation Failure)\"    │ \"b5417\" │ \"2017-05-03T18:08:07\" │\n",
       "│ 24  │ \"GC (Allocation Failure)\"    │ \"b5417\" │ \"2017-05-03T18:08:18\" │\n",
       "│ 25  │ \"GC (Allocation Failure)\"    │ \"b9182\" │ \"2017-05-05T09:53:53\" │\n",
       "│ 26  │ \"GC (Allocation Failure)\"    │ \"b9182\" │ \"2017-05-05T09:54:13\" │"
      ]
     },
     "execution_count": 57,
     "metadata": {},
     "output_type": "execute_result"
    }
   ],
   "source": [
    "dfMoreThan(dfNew, 4)"
   ]
  },
  {
   "cell_type": "code",
   "execution_count": 58,
   "metadata": {},
   "outputs": [
    {
     "data": {
      "text/html": [
       "<table class=\"data-frame\"><thead><tr><th></th><th>Timestamp_sec_</th><th>Timestamp_unix_</th><th>Used_K_</th><th>Total_K_</th><th>Pause_sec_</th><th>GC_Type</th><th>Host</th><th>Time</th></tr></thead><tbody><tr><th>1</th><td>193127.73986570002</td><td>1493240172</td><td>7999522</td><td>12268352</td><td>7.0851343</td><td>GC (Allocation Failure)</td><td>a1</td><td>2017-04-26T20:56:12</td></tr><tr><th>2</th><td>428361.1272403</td><td>1493475406</td><td>8036717</td><td>12268352</td><td>7.0337597</td><td>GC (Allocation Failure)</td><td>a1</td><td>2017-04-29T14:16:46</td></tr><tr><th>3</th><td>667840.1946548</td><td>1493714885</td><td>9446887</td><td>12268352</td><td>7.1493452</td><td>GC (Allocation Failure)</td><td>a1</td><td>2017-05-02T08:48:05</td></tr><tr><th>4</th><td>105624.4004179</td><td>1493152594</td><td>8102536</td><td>12268352</td><td>6.9835821</td><td>GC (Allocation Failure)</td><td>a3</td><td>2017-04-25T20:36:34</td></tr><tr><th>5</th><td>689260.4852184</td><td>1493736230</td><td>4532635</td><td>12268352</td><td>6.9757816</td><td>GC (Allocation Failure)</td><td>a3</td><td>2017-05-02T14:43:50</td></tr><tr><th>6</th><td>173647.4401286</td><td>1493220373</td><td>9598985</td><td>12268352</td><td>7.1198714</td><td>GC (Allocation Failure)</td><td>a6</td><td>2017-04-26T15:26:13</td></tr><tr><th>7</th><td>407140.6505525</td><td>1493453866</td><td>7461834</td><td>12268352</td><td>7.1434475</td><td>GC (Allocation Failure)</td><td>a6</td><td>2017-04-29T08:17:46</td></tr><tr><th>8</th><td>694774.1987722999</td><td>1493741499</td><td>4914398</td><td>12268352</td><td>7.0652277</td><td>GC (Allocation Failure)</td><td>a6</td><td>2017-05-02T16:11:39</td></tr><tr><th>9</th><td>698207.9593928</td><td>1493744933</td><td>6156959</td><td>12268352</td><td>6.9796072</td><td>GC (Allocation Failure)</td><td>a6</td><td>2017-05-02T17:08:53</td></tr><tr><th>10</th><td>645020.308555</td><td>1493691194</td><td>4788596</td><td>12268352</td><td>4.195445</td><td>GC (Allocation Failure)</td><td>a10</td><td>2017-05-02T02:13:14</td></tr><tr><th>11</th><td>953925.1259419</td><td>1494000099</td><td>8492467</td><td>12268352</td><td>4.3560581</td><td>GC (Allocation Failure)</td><td>a10</td><td>2017-05-05T16:01:39</td></tr><tr><th>12</th><td>364376.3479579</td><td>1493404400</td><td>5663499</td><td>12268352</td><td>4.4670421</td><td>GC (Allocation Failure)</td><td>a1675</td><td>2017-04-28T18:33:20</td></tr><tr><th>13</th><td>696829.8558865</td><td>1493736853</td><td>6664930</td><td>12268352</td><td>4.4251135</td><td>GC (Allocation Failure)</td><td>a1675</td><td>2017-05-02T14:54:13</td></tr><tr><th>14</th><td>176421.33509789998</td><td>1493215146</td><td>6813512</td><td>12268352</td><td>4.5189021</td><td>GC (Allocation Failure)</td><td>a2852</td><td>2017-04-26T13:59:06</td></tr><tr><th>15</th><td>446904.43023590004</td><td>1493485629</td><td>8151614</td><td>12268352</td><td>4.1497641</td><td>GC (Allocation Failure)</td><td>a2852</td><td>2017-04-29T17:07:09</td></tr><tr><th>16</th><td>571833.5149294001</td><td>1493610558</td><td>7626689</td><td>12268352</td><td>4.3610706</td><td>GC (Allocation Failure)</td><td>a2852</td><td>2017-05-01T03:49:18</td></tr><tr><th>17</th><td>698117.8777168001</td><td>1493736843</td><td>9450177</td><td>12268352</td><td>4.6012832</td><td>GC (Allocation Failure)</td><td>a2852</td><td>2017-05-02T14:54:03</td></tr><tr><th>18</th><td>113199.07014119999</td><td>1493157909</td><td>9402848</td><td>12268352</td><td>4.3948588</td><td>GC (Allocation Failure)</td><td>a3</td><td>2017-04-25T22:05:09</td></tr><tr><th>19</th><td>258201.8474437</td><td>1493299928</td><td>8165111</td><td>12268352</td><td>4.1685563</td><td>GC (Allocation Failure)</td><td>a397</td><td>2017-04-27T13:32:08</td></tr><tr><th>20</th><td>274646.8272381</td><td>1493316373</td><td>6667176</td><td>12268352</td><td>4.1777619</td><td>GC (Allocation Failure)</td><td>a397</td><td>2017-04-27T18:06:13</td></tr><tr><th>21</th><td>481747.5492904</td><td>1493523473</td><td>6012200</td><td>12268352</td><td>4.1287096</td><td>GC (Allocation Failure)</td><td>a397</td><td>2017-04-30T03:37:53</td></tr><tr><th>22</th><td>691598.714558</td><td>1493733325</td><td>6435511</td><td>12268352</td><td>4.285442</td><td>GC (Allocation Failure)</td><td>a397</td><td>2017-05-02T13:55:25</td></tr><tr><th>23</th><td>715308.0037708</td><td>1493757034</td><td>4980254</td><td>12268352</td><td>4.1702292</td><td>GC (Allocation Failure)</td><td>a397</td><td>2017-05-02T20:30:34</td></tr><tr><th>24</th><td>7257.4620092</td><td>1493052589</td><td>8243447</td><td>12268352</td><td>4.3319908</td><td>GC (Allocation Failure)</td><td>a4</td><td>2017-04-24T16:49:49</td></tr><tr><th>25</th><td>717857.0161411</td><td>1493763189</td><td>4873287</td><td>12268352</td><td>4.4348589</td><td>GC (Allocation Failure)</td><td>a4</td><td>2017-05-02T22:13:09</td></tr><tr><th>26</th><td>806782.2602962999</td><td>1493852114</td><td>6532882</td><td>12268352</td><td>4.4987037</td><td>GC (Allocation Failure)</td><td>a4</td><td>2017-05-03T22:55:14</td></tr><tr><th>27</th><td>187502.3867335</td><td>1493227832</td><td>9364370</td><td>12268352</td><td>4.1432665</td><td>GC (Allocation Failure)</td><td>a4377</td><td>2017-04-26T17:30:32</td></tr><tr><th>28</th><td>273769.31574499997</td><td>1493313935</td><td>6019433</td><td>12268352</td><td>4.268255</td><td>GC (Allocation Failure)</td><td>a5</td><td>2017-04-27T17:25:35</td></tr><tr><th>29</th><td>281011.9152276</td><td>1493322462</td><td>7957857</td><td>12268352</td><td>4.6927724</td><td>GC (Allocation Failure)</td><td>a5300</td><td>2017-04-27T19:47:42</td></tr><tr><th>30</th><td>468952.1053422</td><td>1493510402</td><td>5852196</td><td>12268352</td><td>4.4686578</td><td>GC (Allocation Failure)</td><td>a5300</td><td>2017-04-30T00:00:02</td></tr><tr><th>&vellip;</th><td>&vellip;</td><td>&vellip;</td><td>&vellip;</td><td>&vellip;</td><td>&vellip;</td><td>&vellip;</td><td>&vellip;</td><td>&vellip;</td></tr></tbody></table>"
      ],
      "text/plain": [
       "102×8 DataFrames.DataFrame\n",
       "│ Row │ Timestamp_sec_ │ Timestamp_unix_ │ Used_K_  │ Total_K_ │ Pause_sec_ │\n",
       "├─────┼────────────────┼─────────────────┼──────────┼──────────┼────────────┤\n",
       "│ 1   │ 1.93128e5      │ 1493240172      │ 7999522  │ 12268352 │ 7.08513    │\n",
       "│ 2   │ 4.28361e5      │ 1493475406      │ 8036717  │ 12268352 │ 7.03376    │\n",
       "│ 3   │ 6.6784e5       │ 1493714885      │ 9446887  │ 12268352 │ 7.14935    │\n",
       "│ 4   │ 1.05624e5      │ 1493152594      │ 8102536  │ 12268352 │ 6.98358    │\n",
       "│ 5   │ 6.8926e5       │ 1493736230      │ 4532635  │ 12268352 │ 6.97578    │\n",
       "│ 6   │ 1.73647e5      │ 1493220373      │ 9598985  │ 12268352 │ 7.11987    │\n",
       "│ 7   │ 4.07141e5      │ 1493453866      │ 7461834  │ 12268352 │ 7.14345    │\n",
       "│ 8   │ 6.94774e5      │ 1493741499      │ 4914398  │ 12268352 │ 7.06523    │\n",
       "│ 9   │ 698208.0       │ 1493744933      │ 6156959  │ 12268352 │ 6.97961    │\n",
       "│ 10  │ 6.4502e5       │ 1493691194      │ 4788596  │ 12268352 │ 4.19545    │\n",
       "│ 11  │ 9.53925e5      │ 1494000099      │ 8492467  │ 12268352 │ 4.35606    │\n",
       "⋮\n",
       "│ 91  │ 2.90319e5      │ 1493335096      │ 9478473  │ 12268352 │ 4.54153    │\n",
       "│ 92  │ 3.50353e5      │ 1493396639      │ 5884530  │ 12268352 │ 4.40609    │\n",
       "│ 93  │ 4.56669e5      │ 1493502955      │ 5995008  │ 12268352 │ 4.43837    │\n",
       "│ 94  │ 6.28435e5      │ 1493674721      │ 6234351  │ 12268352 │ 4.4426     │\n",
       "│ 95  │ 8.80838e5      │ 1493920932      │ 4593852  │ 12268352 │ 4.3975     │\n",
       "│ 96  │ 93686.2        │ 1493905171      │ 8994867  │ 15411904 │ 4.27351    │\n",
       "│ 97  │ 93701.9        │ 1493905186      │ 10102106 │ 15411904 │ 4.27884    │\n",
       "│ 98  │ 2.41906e5      │ 1493283410      │ 6327613  │ 12268352 │ 4.61116    │\n",
       "│ 99  │ 6.96058e5      │ 1493737572      │ 5090210  │ 12268352 │ 14.5362    │\n",
       "│ 100 │ 122706.0       │ 1493167882      │ 8701733  │ 12268352 │ 4.28073    │\n",
       "│ 101 │ 2.16302e5      │ 1493261478      │ 7575343  │ 12268352 │ 4.22234    │\n",
       "│ 102 │ 953605.0       │ 1493998781      │ 7893869  │ 12268352 │ 4.03876    │\n",
       "\n",
       "│ Row │ GC_Type                      │ Host    │ Time                  │\n",
       "├─────┼──────────────────────────────┼─────────┼───────────────────────┤\n",
       "│ 1   │ \"GC (Allocation Failure)\"    │ \"a1\"    │ \"2017-04-26T20:56:12\" │\n",
       "│ 2   │ \"GC (Allocation Failure)\"    │ \"a1\"    │ \"2017-04-29T14:16:46\" │\n",
       "│ 3   │ \"GC (Allocation Failure)\"    │ \"a1\"    │ \"2017-05-02T08:48:05\" │\n",
       "│ 4   │ \"GC (Allocation Failure)\"    │ \"a3\"    │ \"2017-04-25T20:36:34\" │\n",
       "│ 5   │ \"GC (Allocation Failure)\"    │ \"a3\"    │ \"2017-05-02T14:43:50\" │\n",
       "│ 6   │ \"GC (Allocation Failure)\"    │ \"a6\"    │ \"2017-04-26T15:26:13\" │\n",
       "│ 7   │ \"GC (Allocation Failure)\"    │ \"a6\"    │ \"2017-04-29T08:17:46\" │\n",
       "│ 8   │ \"GC (Allocation Failure)\"    │ \"a6\"    │ \"2017-05-02T16:11:39\" │\n",
       "│ 9   │ \"GC (Allocation Failure)\"    │ \"a6\"    │ \"2017-05-02T17:08:53\" │\n",
       "│ 10  │ \"GC (Allocation Failure)\"    │ \"a10\"   │ \"2017-05-02T02:13:14\" │\n",
       "│ 11  │ \"GC (Allocation Failure)\"    │ \"a10\"   │ \"2017-05-05T16:01:39\" │\n",
       "⋮\n",
       "│ 91  │ \"GC (Allocation Failure)\"    │ \"b687\"  │ \"2017-04-27T23:18:16\" │\n",
       "│ 92  │ \"GC (Allocation Failure)\"    │ \"b7610\" │ \"2017-04-28T16:23:59\" │\n",
       "│ 93  │ \"GC (Allocation Failure)\"    │ \"b7610\" │ \"2017-04-29T21:55:55\" │\n",
       "│ 94  │ \"GC (Allocation Failure)\"    │ \"b7610\" │ \"2017-05-01T21:38:41\" │\n",
       "│ 95  │ \"GC (Allocation Failure)\"    │ \"b7837\" │ \"2017-05-04T18:02:12\" │\n",
       "│ 96  │ \"GC (Allocation Failure)\"    │ \"b8673\" │ \"2017-05-04T13:39:31\" │\n",
       "│ 97  │ \"GC (GCLocker Initiated GC)\" │ \"b8673\" │ \"2017-05-04T13:39:46\" │\n",
       "│ 98  │ \"GC (Allocation Failure)\"    │ \"b892\"  │ \"2017-04-27T08:56:50\" │\n",
       "│ 99  │ \"GC (Allocation Failure)\"    │ \"b892\"  │ \"2017-05-02T15:06:12\" │\n",
       "│ 100 │ \"GC (Allocation Failure)\"    │ \"b9443\" │ \"2017-04-26T00:51:22\" │\n",
       "│ 101 │ \"GC (Allocation Failure)\"    │ \"b9443\" │ \"2017-04-27T02:51:18\" │\n",
       "│ 102 │ \"GC (Allocation Failure)\"    │ \"b9443\" │ \"2017-05-05T15:39:41\" │"
      ]
     },
     "execution_count": 58,
     "metadata": {},
     "output_type": "execute_result"
    }
   ],
   "source": [
    "dfMoreThan(dfOld, 4)"
   ]
  },
  {
   "cell_type": "code",
   "execution_count": null,
   "metadata": {
    "collapsed": true
   },
   "outputs": [],
   "source": []
  },
  {
   "cell_type": "code",
   "execution_count": null,
   "metadata": {
    "collapsed": true
   },
   "outputs": [],
   "source": []
  },
  {
   "cell_type": "code",
   "execution_count": null,
   "metadata": {
    "collapsed": true
   },
   "outputs": [],
   "source": []
  },
  {
   "cell_type": "code",
   "execution_count": null,
   "metadata": {
    "collapsed": true
   },
   "outputs": [],
   "source": []
  }
 ],
 "metadata": {
  "kernelspec": {
   "display_name": "Julia 0.5.1",
   "language": "julia",
   "name": "julia-0.5"
  },
  "language_info": {
   "file_extension": ".jl",
   "mimetype": "application/julia",
   "name": "julia",
   "version": "0.5.1"
  }
 },
 "nbformat": 4,
 "nbformat_minor": 2
}
