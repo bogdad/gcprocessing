{
 "cells": [
  {
   "cell_type": "code",
   "execution_count": 94,
   "metadata": {},
   "outputs": [
    {
     "name": "stderr",
     "output_type": "stream",
     "text": [
      "\u001b[1m\u001b[34mINFO: Nothing to be done\n",
      "\u001b[0m\u001b[1m\u001b[34mINFO: Nothing to be done\n",
      "\u001b[0m\u001b[1m\u001b[34mINFO: Nothing to be done\n",
      "\u001b[0m\u001b[1m\u001b[34mINFO: Nothing to be done\n",
      "\u001b[0m\u001b[1m\u001b[34mINFO: Nothing to be done\n",
      "\u001b[0m\u001b[1m\u001b[34mINFO: Nothing to be done\n",
      "\u001b[0m\u001b[1m\u001b[34mINFO: Nothing to be done\n",
      "\u001b[0m"
     ]
    }
   ],
   "source": [
    "Pkg.add(\"Blink\")\n",
    "Pkg.add(\"DataFrames\")\n",
    "Pkg.add(\"Plots\")\n",
    "Pkg.add(\"PyPlot\")\n",
    "Pkg.add(\"PlotlyJS\")\n",
    "Pkg.add(\"Plotly\")"
   ]
  },
  {
   "cell_type": "code",
   "execution_count": 95,
   "metadata": {},
   "outputs": [
    {
     "name": "stderr",
     "output_type": "stream",
     "text": [
      "\u001b[1m\u001b[34mINFO: Nothing to be done\n",
      "\u001b[0m"
     ]
    }
   ],
   "source": [
    "Pkg.add(\"GR\")"
   ]
  },
  {
   "cell_type": "code",
   "execution_count": 96,
   "metadata": {},
   "outputs": [
    {
     "name": "stderr",
     "output_type": "stream",
     "text": [
      "\u001b[1m\u001b[34mINFO: Building Plots\n",
      "\u001b[0m"
     ]
    }
   ],
   "source": [
    "Pkg.build(\"Plots\")"
   ]
  },
  {
   "cell_type": "code",
   "execution_count": 97,
   "metadata": {},
   "outputs": [],
   "source": [
    "using StatPlots"
   ]
  },
  {
   "cell_type": "code",
   "execution_count": 98,
   "metadata": {},
   "outputs": [],
   "source": [
    "using DataFrames\n",
    "using Plots\n",
    "using Plotly"
   ]
  },
  {
   "cell_type": "code",
   "execution_count": 99,
   "metadata": {},
   "outputs": [
    {
     "data": {
      "text/plain": [
       "Plots.GRBackend()"
      ]
     },
     "execution_count": 99,
     "metadata": {},
     "output_type": "execute_result"
    }
   ],
   "source": [
    "gr()"
   ]
  },
  {
   "cell_type": "code",
   "execution_count": 100,
   "metadata": {
    "collapsed": true
   },
   "outputs": [],
   "source": [
    "default(guidefont = font(20), tickfont = font(15))"
   ]
  },
  {
   "cell_type": "code",
   "execution_count": 101,
   "metadata": {},
   "outputs": [
    {
     "data": {
      "text/html": [
       "<table class=\"data-frame\"><thead><tr><th></th><th>Timestamp_sec_</th><th>Timestamp_unix_</th><th>Used_K_</th><th>Total_K_</th><th>Pause_sec_</th><th>GC_Type</th><th>Host</th></tr></thead><tbody><tr><th>1</th><td>18.1746156</td><td>1493818673</td><td>5461376</td><td>15411904</td><td>0.0393844</td><td>GC (Allocation Failure)</td><td>a4</td></tr><tr><th>2</th><td>20.2205313</td><td>1493818675</td><td>1929458</td><td>15411904</td><td>0.0334687</td><td>GC (CMS Initial Mark)</td><td>a4</td></tr><tr><th>3</th><td>25.287405500000002</td><td>1493818680</td><td>5477163</td><td>15411904</td><td>0.0715945</td><td>GC (Allocation Failure)</td><td>a4</td></tr><tr><th>4</th><td>25.4115395</td><td>1493818680</td><td>188785</td><td>15411904</td><td>0.0204605</td><td>GC (CMS Final Remark)</td><td>a4</td></tr><tr><th>5</th><td>29.3527868</td><td>1493818684</td><td>5484248</td><td>15411904</td><td>0.0532132</td><td>GC (Allocation Failure)</td><td>a4</td></tr><tr><th>6</th><td>33.387265199999995</td><td>1493818688</td><td>5532231</td><td>15411904</td><td>0.1197348</td><td>GC (Allocation Failure)</td><td>a4</td></tr><tr><th>7</th><td>36.0904619</td><td>1493818691</td><td>5726473</td><td>15411904</td><td>0.2195381</td><td>GC (Allocation Failure)</td><td>a4</td></tr><tr><th>8</th><td>36.2940551</td><td>1493818691</td><td>588564</td><td>15411904</td><td>0.2399449</td><td>GC (GCLocker Initiated GC)</td><td>a4</td></tr><tr><th>9</th><td>39.156653000000006</td><td>1493818694</td><td>6084175</td><td>15411904</td><td>0.061347</td><td>GC (Allocation Failure)</td><td>a4</td></tr><tr><th>10</th><td>39.1816592</td><td>1493818694</td><td>734136</td><td>15411904</td><td>0.1033408</td><td>GC (GCLocker Initiated GC)</td><td>a4</td></tr><tr><th>11</th><td>43.6267976</td><td>1493818698</td><td>6264961</td><td>15411904</td><td>0.0592024</td><td>GC (Allocation Failure)</td><td>a4</td></tr><tr><th>12</th><td>49.565155499999996</td><td>1493818704</td><td>6374025</td><td>15411904</td><td>0.1218445</td><td>GC (Allocation Failure)</td><td>a4</td></tr><tr><th>13</th><td>55.742661399999996</td><td>1493818711</td><td>6462481</td><td>15411904</td><td>0.0963386</td><td>GC (Allocation Failure)</td><td>a4</td></tr><tr><th>14</th><td>68.9512145</td><td>1493818724</td><td>6531848</td><td>15411904</td><td>0.0787855</td><td>GC (Allocation Failure)</td><td>a4</td></tr><tr><th>15</th><td>69.0348501</td><td>1493818724</td><td>1142880</td><td>15411904</td><td>0.0791499</td><td>GC (GCLocker Initiated GC)</td><td>a4</td></tr><tr><th>16</th><td>87.5784092</td><td>1493818742</td><td>6616158</td><td>15411904</td><td>0.0665908</td><td>GC (Allocation Failure)</td><td>a4</td></tr><tr><th>17</th><td>87.591937</td><td>1493818742</td><td>1342626</td><td>15411904</td><td>0.125063</td><td>GC (GCLocker Initiated GC)</td><td>a4</td></tr><tr><th>18</th><td>105.7372075</td><td>1493818761</td><td>6828490</td><td>15411904</td><td>0.0607925</td><td>GC (Allocation Failure)</td><td>a4</td></tr><tr><th>19</th><td>124.4363908</td><td>1493818779</td><td>6969809</td><td>15411904</td><td>0.1336092</td><td>GC (Allocation Failure)</td><td>a4</td></tr><tr><th>20</th><td>143.5540521</td><td>1493818798</td><td>7088164</td><td>15411904</td><td>0.1319479</td><td>GC (Allocation Failure)</td><td>a4</td></tr><tr><th>21</th><td>163.9074041</td><td>1493818819</td><td>7257013</td><td>15411904</td><td>0.1295959</td><td>GC (Allocation Failure)</td><td>a4</td></tr><tr><th>22</th><td>183.4986007</td><td>1493818838</td><td>7328435</td><td>15411904</td><td>0.1403993</td><td>GC (Allocation Failure)</td><td>a4</td></tr><tr><th>23</th><td>201.7914421</td><td>1493818857</td><td>7488834</td><td>15411904</td><td>0.1515579</td><td>GC (Allocation Failure)</td><td>a4</td></tr><tr><th>24</th><td>217.1435247</td><td>1493818872</td><td>7622320</td><td>15411904</td><td>0.2154753</td><td>GC (Allocation Failure)</td><td>a4</td></tr><tr><th>25</th><td>232.2484142</td><td>1493818887</td><td>7869827</td><td>15411904</td><td>0.2245858</td><td>GC (Allocation Failure)</td><td>a4</td></tr><tr><th>26</th><td>252.8515202</td><td>1493818908</td><td>8037625</td><td>15411904</td><td>0.0964798</td><td>GC (Allocation Failure)</td><td>a4</td></tr><tr><th>27</th><td>273.07174840000005</td><td>1493818928</td><td>8073460</td><td>15411904</td><td>0.1122516</td><td>GC (Allocation Failure)</td><td>a4</td></tr><tr><th>28</th><td>284.1902781</td><td>1493818939</td><td>8198316</td><td>15411904</td><td>0.1197219</td><td>GC (Allocation Failure)</td><td>a4</td></tr><tr><th>29</th><td>284.3382181</td><td>1493818939</td><td>2906331</td><td>15411904</td><td>0.0977819</td><td>GC (GCLocker Initiated GC)</td><td>a4</td></tr><tr><th>30</th><td>290.3564055</td><td>1493818945</td><td>8308500</td><td>15411904</td><td>0.0435945</td><td>GC (Allocation Failure)</td><td>a4</td></tr><tr><th>&vellip;</th><td>&vellip;</td><td>&vellip;</td><td>&vellip;</td><td>&vellip;</td><td>&vellip;</td><td>&vellip;</td><td>&vellip;</td></tr></tbody></table>"
      ],
      "text/plain": [
       "493291×7 DataFrames.DataFrame\n",
       "│ Row    │ Timestamp_sec_ │ Timestamp_unix_ │ Used_K_  │ Total_K_ │ Pause_sec_ │\n",
       "├────────┼────────────────┼─────────────────┼──────────┼──────────┼────────────┤\n",
       "│ 1      │ 18.1746        │ 1493818673      │ 5461376  │ 15411904 │ 0.0393844  │\n",
       "│ 2      │ 20.2205        │ 1493818675      │ 1929458  │ 15411904 │ 0.0334687  │\n",
       "│ 3      │ 25.2874        │ 1493818680      │ 5477163  │ 15411904 │ 0.0715945  │\n",
       "│ 4      │ 25.4115        │ 1493818680      │ 188785   │ 15411904 │ 0.0204605  │\n",
       "│ 5      │ 29.3528        │ 1493818684      │ 5484248  │ 15411904 │ 0.0532132  │\n",
       "│ 6      │ 33.3873        │ 1493818688      │ 5532231  │ 15411904 │ 0.119735   │\n",
       "│ 7      │ 36.0905        │ 1493818691      │ 5726473  │ 15411904 │ 0.219538   │\n",
       "│ 8      │ 36.2941        │ 1493818691      │ 588564   │ 15411904 │ 0.239945   │\n",
       "│ 9      │ 39.1567        │ 1493818694      │ 6084175  │ 15411904 │ 0.061347   │\n",
       "│ 10     │ 39.1817        │ 1493818694      │ 734136   │ 15411904 │ 0.103341   │\n",
       "│ 11     │ 43.6268        │ 1493818698      │ 6264961  │ 15411904 │ 0.0592024  │\n",
       "⋮\n",
       "│ 493280 │ 1.97156e5      │ 1494013057      │ 11062212 │ 15411904 │ 0.177525   │\n",
       "│ 493281 │ 1.97171e5      │ 1494013072      │ 11384004 │ 15411904 │ 0.278791   │\n",
       "│ 493282 │ 1.97183e5      │ 1494013084      │ 11634536 │ 15411904 │ 0.105089   │\n",
       "│ 493283 │ 1.97198e5      │ 1494013099      │ 11599065 │ 15411904 │ 0.116792   │\n",
       "│ 493284 │ 1.97204e5      │ 1494013105      │ 11676138 │ 15411904 │ 0.122175   │\n",
       "│ 493285 │ 1.97216e5      │ 1494013116      │ 11746908 │ 15411904 │ 0.094779   │\n",
       "│ 493286 │ 1.97231e5      │ 1494013132      │ 11807729 │ 15411904 │ 0.132332   │\n",
       "│ 493287 │ 1.97248e5      │ 1494013149      │ 11915287 │ 15411904 │ 0.147556   │\n",
       "│ 493288 │ 1.97264e5      │ 1494013165      │ 12052142 │ 15411904 │ 0.14599    │\n",
       "│ 493289 │ 197264.0       │ 1494013165      │ 6696246  │ 15411904 │ 0.0157814  │\n",
       "│ 493290 │ 1.97269e5      │ 1494013170      │ 8673612  │ 15411904 │ 0.283587   │\n",
       "│ 493291 │ 1.9728e5       │ 1494013181      │ 6560212  │ 15411904 │ 0.127362   │\n",
       "\n",
       "│ Row    │ GC_Type                      │ Host   │\n",
       "├────────┼──────────────────────────────┼────────┤\n",
       "│ 1      │ \"GC (Allocation Failure)\"    │ \"a4\"   │\n",
       "│ 2      │ \"GC (CMS Initial Mark)\"      │ \"a4\"   │\n",
       "│ 3      │ \"GC (Allocation Failure)\"    │ \"a4\"   │\n",
       "│ 4      │ \"GC (CMS Final Remark)\"      │ \"a4\"   │\n",
       "│ 5      │ \"GC (Allocation Failure)\"    │ \"a4\"   │\n",
       "│ 6      │ \"GC (Allocation Failure)\"    │ \"a4\"   │\n",
       "│ 7      │ \"GC (Allocation Failure)\"    │ \"a4\"   │\n",
       "│ 8      │ \"GC (GCLocker Initiated GC)\" │ \"a4\"   │\n",
       "│ 9      │ \"GC (Allocation Failure)\"    │ \"a4\"   │\n",
       "│ 10     │ \"GC (GCLocker Initiated GC)\" │ \"a4\"   │\n",
       "│ 11     │ \"GC (Allocation Failure)\"    │ \"a4\"   │\n",
       "⋮\n",
       "│ 493280 │ \"GC (Allocation Failure)\"    │ \"b987\" │\n",
       "│ 493281 │ \"GC (Allocation Failure)\"    │ \"b987\" │\n",
       "│ 493282 │ \"GC (GCLocker Initiated GC)\" │ \"b987\" │\n",
       "│ 493283 │ \"GC (Allocation Failure)\"    │ \"b987\" │\n",
       "│ 493284 │ \"GC (Allocation Failure)\"    │ \"b987\" │\n",
       "│ 493285 │ \"GC (Allocation Failure)\"    │ \"b987\" │\n",
       "│ 493286 │ \"GC (Allocation Failure)\"    │ \"b987\" │\n",
       "│ 493287 │ \"GC (Allocation Failure)\"    │ \"b987\" │\n",
       "│ 493288 │ \"GC (Allocation Failure)\"    │ \"b987\" │\n",
       "│ 493289 │ \"GC (CMS Initial Mark)\"      │ \"b987\" │\n",
       "│ 493290 │ \"GC (CMS Final Remark)\"      │ \"b987\" │\n",
       "│ 493291 │ \"GC (Allocation Failure)\"    │ \"b987\" │"
      ]
     },
     "execution_count": 101,
     "metadata": {},
     "output_type": "execute_result"
    }
   ],
   "source": [
    "dfNew = DataFrames.readtable(\"./output_new.csv\", separator = ',', header = true)\n",
    "\n"
   ]
  },
  {
   "cell_type": "code",
   "execution_count": 102,
   "metadata": {},
   "outputs": [
    {
     "data": {
      "text/html": [
       "<?xml version=\"1.0\" encoding=\"utf-8\"?>\n",
       "<svg xmlns=\"http://www.w3.org/2000/svg\" xmlns:xlink=\"http://www.w3.org/1999/xlink\" width=\"600\" height=\"400\" viewBox=\"0 0 600 400\">\n",
       "<defs>\n",
       "  <clipPath id=\"clip00\">\n",
       "    <rect x=\"0\" y=\"0\" width=\"600\" height=\"400\"/>\n",
       "  </clipPath>\n",
       "</defs>\n",
       "<polygon clip-path=\"url(#clip00)\" points=\"\n",
       "0,400 600,400 600,0 0,0 \n",
       "  \" fill=\"#ffffff\" fill-opacity=\"1\"/>\n",
       "<defs>\n",
       "  <clipPath id=\"clip01\">\n",
       "    <rect x=\"120\" y=\"0\" width=\"421\" height=\"400\"/>\n",
       "  </clipPath>\n",
       "</defs>\n",
       "<polygon clip-path=\"url(#clip00)\" points=\"\n",
       "103.937,375.23 596.063,375.23 596.063,3.93701 103.937,3.93701 \n",
       "  \" fill=\"#ffffff\" fill-opacity=\"1\"/>\n",
       "<defs>\n",
       "  <clipPath id=\"clip02\">\n",
       "    <rect x=\"103\" y=\"3\" width=\"493\" height=\"372\"/>\n",
       "  </clipPath>\n",
       "</defs>\n",
       "<polyline clip-path=\"url(#clip02)\" style=\"stroke:#00002d; stroke-width:0.8; stroke-opacity:0.5; fill:none\" stroke-dasharray=\"1, 2\" points=\"\n",
       "  117.785,369.66 117.785,9.5064 \n",
       "  \"/>\n",
       "<polyline clip-path=\"url(#clip02)\" style=\"stroke:#00002d; stroke-width:0.8; stroke-opacity:0.5; fill:none\" stroke-dasharray=\"1, 2\" points=\"\n",
       "  402.415,369.66 402.415,9.5064 \n",
       "  \"/>\n",
       "<polyline clip-path=\"url(#clip02)\" style=\"stroke:#00002d; stroke-width:0.8; stroke-opacity:0.5; fill:none\" stroke-dasharray=\"1, 2\" points=\"\n",
       "  111.319,375.23 588.681,375.23 \n",
       "  \"/>\n",
       "<polyline clip-path=\"url(#clip02)\" style=\"stroke:#00002d; stroke-width:0.8; stroke-opacity:0.5; fill:none\" stroke-dasharray=\"1, 2\" points=\"\n",
       "  111.319,299.863 588.681,299.863 \n",
       "  \"/>\n",
       "<polyline clip-path=\"url(#clip02)\" style=\"stroke:#00002d; stroke-width:0.8; stroke-opacity:0.5; fill:none\" stroke-dasharray=\"1, 2\" points=\"\n",
       "  111.319,224.497 588.681,224.497 \n",
       "  \"/>\n",
       "<polyline clip-path=\"url(#clip02)\" style=\"stroke:#00002d; stroke-width:0.8; stroke-opacity:0.5; fill:none\" stroke-dasharray=\"1, 2\" points=\"\n",
       "  111.319,149.13 588.681,149.13 \n",
       "  \"/>\n",
       "<polyline clip-path=\"url(#clip02)\" style=\"stroke:#00002d; stroke-width:0.8; stroke-opacity:0.5; fill:none\" stroke-dasharray=\"1, 2\" points=\"\n",
       "  111.319,73.7634 588.681,73.7634 \n",
       "  \"/>\n",
       "<polyline clip-path=\"url(#clip02)\" style=\"stroke:#00002d; stroke-width:0.8; stroke-opacity:1; fill:none\" points=\"\n",
       "  103.937,375.23 596.063,375.23 \n",
       "  \"/>\n",
       "<polyline clip-path=\"url(#clip02)\" style=\"stroke:#00002d; stroke-width:0.8; stroke-opacity:1; fill:none\" points=\"\n",
       "  117.785,375.23 117.785,369.66 \n",
       "  \"/>\n",
       "<polyline clip-path=\"url(#clip02)\" style=\"stroke:#00002d; stroke-width:0.8; stroke-opacity:1; fill:none\" points=\"\n",
       "  402.415,375.23 402.415,369.66 \n",
       "  \"/>\n",
       "<polyline clip-path=\"url(#clip02)\" style=\"stroke:#00002d; stroke-width:0.8; stroke-opacity:1; fill:none\" points=\"\n",
       "  103.937,375.23 103.937,3.93701 \n",
       "  \"/>\n",
       "<polyline clip-path=\"url(#clip02)\" style=\"stroke:#00002d; stroke-width:0.8; stroke-opacity:1; fill:none\" points=\"\n",
       "  103.937,375.23 111.319,375.23 \n",
       "  \"/>\n",
       "<polyline clip-path=\"url(#clip02)\" style=\"stroke:#00002d; stroke-width:0.8; stroke-opacity:1; fill:none\" points=\"\n",
       "  103.937,299.863 111.319,299.863 \n",
       "  \"/>\n",
       "<polyline clip-path=\"url(#clip02)\" style=\"stroke:#00002d; stroke-width:0.8; stroke-opacity:1; fill:none\" points=\"\n",
       "  103.937,224.497 111.319,224.497 \n",
       "  \"/>\n",
       "<polyline clip-path=\"url(#clip02)\" style=\"stroke:#00002d; stroke-width:0.8; stroke-opacity:1; fill:none\" points=\"\n",
       "  103.937,149.13 111.319,149.13 \n",
       "  \"/>\n",
       "<polyline clip-path=\"url(#clip02)\" style=\"stroke:#00002d; stroke-width:0.8; stroke-opacity:1; fill:none\" points=\"\n",
       "  103.937,73.7634 111.319,73.7634 \n",
       "  \"/>\n",
       "<g clip-path=\"url(#clip00)\">\n",
       "<text style=\"fill:#00002d; fill-opacity:1; font-family:Arial,Helvetica Neue,Helvetica,sans-serif; font-size:22; text-anchor:middle;\" transform=\"rotate(0, 117.785, 395.63)\" x=\"117.785\" y=\"395.63\">0</text>\n",
       "</g>\n",
       "<g clip-path=\"url(#clip00)\">\n",
       "<text style=\"fill:#00002d; fill-opacity:1; font-family:Arial,Helvetica Neue,Helvetica,sans-serif; font-size:22; text-anchor:middle;\" transform=\"rotate(0, 402.415, 395.63)\" x=\"402.415\" y=\"395.63\">5</text>\n",
       "</g>\n",
       "<g clip-path=\"url(#clip00)\">\n",
       "<text style=\"fill:#00002d; fill-opacity:1; font-family:Arial,Helvetica Neue,Helvetica,sans-serif; font-size:22; text-anchor:end;\" transform=\"rotate(0, 102.737, 383.23)\" x=\"102.737\" y=\"383.23\">0</text>\n",
       "</g>\n",
       "<g clip-path=\"url(#clip00)\">\n",
       "<text style=\"fill:#00002d; fill-opacity:1; font-family:Arial,Helvetica Neue,Helvetica,sans-serif; font-size:22; text-anchor:end;\" transform=\"rotate(0, 102.737, 307.863)\" x=\"102.737\" y=\"307.863\">100000</text>\n",
       "</g>\n",
       "<g clip-path=\"url(#clip00)\">\n",
       "<text style=\"fill:#00002d; fill-opacity:1; font-family:Arial,Helvetica Neue,Helvetica,sans-serif; font-size:22; text-anchor:end;\" transform=\"rotate(0, 102.737, 232.497)\" x=\"102.737\" y=\"232.497\">200000</text>\n",
       "</g>\n",
       "<g clip-path=\"url(#clip00)\">\n",
       "<text style=\"fill:#00002d; fill-opacity:1; font-family:Arial,Helvetica Neue,Helvetica,sans-serif; font-size:22; text-anchor:end;\" transform=\"rotate(0, 102.737, 157.13)\" x=\"102.737\" y=\"157.13\">300000</text>\n",
       "</g>\n",
       "<g clip-path=\"url(#clip00)\">\n",
       "<text style=\"fill:#00002d; fill-opacity:1; font-family:Arial,Helvetica Neue,Helvetica,sans-serif; font-size:22; text-anchor:end;\" transform=\"rotate(0, 102.737, 81.7634)\" x=\"102.737\" y=\"81.7634\">400000</text>\n",
       "</g>\n",
       "<polygon clip-path=\"url(#clip02)\" points=\"\n",
       "117.865,3.93701 117.865,375.23 141.079,375.23 141.079,3.93701 117.865,3.93701 117.865,3.93701 \n",
       "  \" fill=\"#0099ff\" fill-opacity=\"1\"/>\n",
       "<polyline clip-path=\"url(#clip02)\" style=\"stroke:#00002d; stroke-width:0.8; stroke-opacity:1; fill:none\" points=\"\n",
       "  117.865,3.93701 117.865,375.23 141.079,375.23 141.079,3.93701 117.865,3.93701 \n",
       "  \"/>\n",
       "<polygon clip-path=\"url(#clip02)\" points=\"\n",
       "141.079,374.822 141.079,375.23 164.292,375.23 164.292,374.822 141.079,374.822 141.079,374.822 \n",
       "  \" fill=\"#0099ff\" fill-opacity=\"1\"/>\n",
       "<polyline clip-path=\"url(#clip02)\" style=\"stroke:#00002d; stroke-width:0.8; stroke-opacity:1; fill:none\" points=\"\n",
       "  141.079,374.822 141.079,375.23 164.292,375.23 164.292,374.822 141.079,374.822 \n",
       "  \"/>\n",
       "<polygon clip-path=\"url(#clip02)\" points=\"\n",
       "164.292,375.212 164.292,375.23 187.506,375.23 187.506,375.212 164.292,375.212 164.292,375.212 \n",
       "  \" fill=\"#0099ff\" fill-opacity=\"1\"/>\n",
       "<polyline clip-path=\"url(#clip02)\" style=\"stroke:#00002d; stroke-width:0.8; stroke-opacity:1; fill:none\" points=\"\n",
       "  164.292,375.212 164.292,375.23 187.506,375.23 187.506,375.212 164.292,375.212 \n",
       "  \"/>\n",
       "<polygon clip-path=\"url(#clip02)\" points=\"\n",
       "187.506,375.227 187.506,375.23 210.719,375.23 210.719,375.227 187.506,375.227 187.506,375.227 \n",
       "  \" fill=\"#0099ff\" fill-opacity=\"1\"/>\n",
       "<polyline clip-path=\"url(#clip02)\" style=\"stroke:#00002d; stroke-width:0.8; stroke-opacity:1; fill:none\" points=\"\n",
       "  187.506,375.227 187.506,375.23 210.719,375.23 210.719,375.227 187.506,375.227 \n",
       "  \"/>\n",
       "<polygon clip-path=\"url(#clip02)\" points=\"\n",
       "210.719,375.227 210.719,375.23 233.933,375.23 233.933,375.227 210.719,375.227 210.719,375.227 \n",
       "  \" fill=\"#0099ff\" fill-opacity=\"1\"/>\n",
       "<polyline clip-path=\"url(#clip02)\" style=\"stroke:#00002d; stroke-width:0.8; stroke-opacity:1; fill:none\" points=\"\n",
       "  210.719,375.227 210.719,375.23 233.933,375.23 233.933,375.227 210.719,375.227 \n",
       "  \"/>\n",
       "<polygon clip-path=\"url(#clip02)\" points=\"\n",
       "233.933,375.202 233.933,375.23 257.146,375.23 257.146,375.202 233.933,375.202 233.933,375.202 \n",
       "  \" fill=\"#0099ff\" fill-opacity=\"1\"/>\n",
       "<polyline clip-path=\"url(#clip02)\" style=\"stroke:#00002d; stroke-width:0.8; stroke-opacity:1; fill:none\" points=\"\n",
       "  233.933,375.202 233.933,375.23 257.146,375.23 257.146,375.202 233.933,375.202 \n",
       "  \"/>\n",
       "<polygon clip-path=\"url(#clip02)\" points=\"\n",
       "257.146,375.23 257.146,375.23 280.36,375.23 280.36,375.23 257.146,375.23 257.146,375.23 \n",
       "  \" fill=\"#0099ff\" fill-opacity=\"1\"/>\n",
       "<polyline clip-path=\"url(#clip02)\" style=\"stroke:#00002d; stroke-width:0.8; stroke-opacity:1; fill:none\" points=\"\n",
       "  257.146,375.23 257.146,375.23 280.36,375.23 257.146,375.23 \n",
       "  \"/>\n",
       "<polygon clip-path=\"url(#clip02)\" points=\"\n",
       "280.36,375.23 280.36,375.23 303.573,375.23 303.573,375.23 280.36,375.23 280.36,375.23 \n",
       "  \" fill=\"#0099ff\" fill-opacity=\"1\"/>\n",
       "<polyline clip-path=\"url(#clip02)\" style=\"stroke:#00002d; stroke-width:0.8; stroke-opacity:1; fill:none\" points=\"\n",
       "  280.36,375.23 280.36,375.23 303.573,375.23 280.36,375.23 \n",
       "  \"/>\n",
       "<polygon clip-path=\"url(#clip02)\" points=\"\n",
       "303.573,375.227 303.573,375.23 326.787,375.23 326.787,375.227 303.573,375.227 303.573,375.227 \n",
       "  \" fill=\"#0099ff\" fill-opacity=\"1\"/>\n",
       "<polyline clip-path=\"url(#clip02)\" style=\"stroke:#00002d; stroke-width:0.8; stroke-opacity:1; fill:none\" points=\"\n",
       "  303.573,375.227 303.573,375.23 326.787,375.23 326.787,375.227 303.573,375.227 \n",
       "  \"/>\n",
       "<polygon clip-path=\"url(#clip02)\" points=\"\n",
       "326.787,375.227 326.787,375.23 350,375.23 350,375.227 326.787,375.227 326.787,375.227 \n",
       "  \" fill=\"#0099ff\" fill-opacity=\"1\"/>\n",
       "<polyline clip-path=\"url(#clip02)\" style=\"stroke:#00002d; stroke-width:0.8; stroke-opacity:1; fill:none\" points=\"\n",
       "  326.787,375.227 326.787,375.23 350,375.23 350,375.227 326.787,375.227 \n",
       "  \"/>\n",
       "<polygon clip-path=\"url(#clip02)\" points=\"\n",
       "350,375.215 350,375.23 373.213,375.23 373.213,375.215 350,375.215 350,375.215 \n",
       "  \" fill=\"#0099ff\" fill-opacity=\"1\"/>\n",
       "<polyline clip-path=\"url(#clip02)\" style=\"stroke:#00002d; stroke-width:0.8; stroke-opacity:1; fill:none\" points=\"\n",
       "  350,375.215 350,375.23 373.213,375.23 373.213,375.215 350,375.215 \n",
       "  \"/>\n",
       "<polygon clip-path=\"url(#clip02)\" points=\"\n",
       "373.213,375.23 373.213,375.23 396.427,375.23 396.427,375.23 373.213,375.23 373.213,375.23 \n",
       "  \" fill=\"#0099ff\" fill-opacity=\"1\"/>\n",
       "<polyline clip-path=\"url(#clip02)\" style=\"stroke:#00002d; stroke-width:0.8; stroke-opacity:1; fill:none\" points=\"\n",
       "  373.213,375.23 373.213,375.23 396.427,375.23 373.213,375.23 \n",
       "  \"/>\n",
       "<polygon clip-path=\"url(#clip02)\" points=\"\n",
       "396.427,375.23 396.427,375.23 419.64,375.23 419.64,375.23 396.427,375.23 396.427,375.23 \n",
       "  \" fill=\"#0099ff\" fill-opacity=\"1\"/>\n",
       "<polyline clip-path=\"url(#clip02)\" style=\"stroke:#00002d; stroke-width:0.8; stroke-opacity:1; fill:none\" points=\"\n",
       "  396.427,375.23 396.427,375.23 419.64,375.23 396.427,375.23 \n",
       "  \"/>\n",
       "<polygon clip-path=\"url(#clip02)\" points=\"\n",
       "419.64,375.23 419.64,375.23 442.854,375.23 442.854,375.23 419.64,375.23 419.64,375.23 \n",
       "  \" fill=\"#0099ff\" fill-opacity=\"1\"/>\n",
       "<polyline clip-path=\"url(#clip02)\" style=\"stroke:#00002d; stroke-width:0.8; stroke-opacity:1; fill:none\" points=\"\n",
       "  419.64,375.23 419.64,375.23 442.854,375.23 419.64,375.23 \n",
       "  \"/>\n",
       "<polygon clip-path=\"url(#clip02)\" points=\"\n",
       "442.854,375.23 442.854,375.23 466.067,375.23 466.067,375.23 442.854,375.23 442.854,375.23 \n",
       "  \" fill=\"#0099ff\" fill-opacity=\"1\"/>\n",
       "<polyline clip-path=\"url(#clip02)\" style=\"stroke:#00002d; stroke-width:0.8; stroke-opacity:1; fill:none\" points=\"\n",
       "  442.854,375.23 442.854,375.23 466.067,375.23 442.854,375.23 \n",
       "  \"/>\n",
       "<polygon clip-path=\"url(#clip02)\" points=\"\n",
       "466.067,375.23 466.067,375.23 489.281,375.23 489.281,375.23 466.067,375.23 466.067,375.23 \n",
       "  \" fill=\"#0099ff\" fill-opacity=\"1\"/>\n",
       "<polyline clip-path=\"url(#clip02)\" style=\"stroke:#00002d; stroke-width:0.8; stroke-opacity:1; fill:none\" points=\"\n",
       "  466.067,375.23 466.067,375.23 489.281,375.23 466.067,375.23 \n",
       "  \"/>\n",
       "<polygon clip-path=\"url(#clip02)\" points=\"\n",
       "489.281,375.23 489.281,375.23 512.494,375.23 512.494,375.23 489.281,375.23 489.281,375.23 \n",
       "  \" fill=\"#0099ff\" fill-opacity=\"1\"/>\n",
       "<polyline clip-path=\"url(#clip02)\" style=\"stroke:#00002d; stroke-width:0.8; stroke-opacity:1; fill:none\" points=\"\n",
       "  489.281,375.23 489.281,375.23 512.494,375.23 489.281,375.23 \n",
       "  \"/>\n",
       "<polygon clip-path=\"url(#clip02)\" points=\"\n",
       "512.494,375.229 512.494,375.23 535.708,375.23 535.708,375.229 512.494,375.229 512.494,375.229 \n",
       "  \" fill=\"#0099ff\" fill-opacity=\"1\"/>\n",
       "<polyline clip-path=\"url(#clip02)\" style=\"stroke:#00002d; stroke-width:0.8; stroke-opacity:1; fill:none\" points=\"\n",
       "  512.494,375.229 512.494,375.23 535.708,375.23 535.708,375.229 512.494,375.229 \n",
       "  \"/>\n",
       "<polygon clip-path=\"url(#clip02)\" points=\"\n",
       "535.708,375.229 535.708,375.23 558.921,375.23 558.921,375.229 535.708,375.229 535.708,375.229 \n",
       "  \" fill=\"#0099ff\" fill-opacity=\"1\"/>\n",
       "<polyline clip-path=\"url(#clip02)\" style=\"stroke:#00002d; stroke-width:0.8; stroke-opacity:1; fill:none\" points=\"\n",
       "  535.708,375.229 535.708,375.23 558.921,375.23 558.921,375.229 535.708,375.229 \n",
       "  \"/>\n",
       "<polygon clip-path=\"url(#clip02)\" points=\"\n",
       "558.921,375.227 558.921,375.23 582.135,375.23 582.135,375.227 558.921,375.227 558.921,375.227 \n",
       "  \" fill=\"#0099ff\" fill-opacity=\"1\"/>\n",
       "<polyline clip-path=\"url(#clip02)\" style=\"stroke:#00002d; stroke-width:0.8; stroke-opacity:1; fill:none\" points=\"\n",
       "  558.921,375.227 558.921,375.23 582.135,375.23 582.135,375.227 558.921,375.227 \n",
       "  \"/>\n",
       "<polygon clip-path=\"url(#clip00)\" points=\"\n",
       "505.547,55.057 578.063,55.057 578.063,24.817 505.547,24.817 \n",
       "  \" fill=\"#ffffff\" fill-opacity=\"1\"/>\n",
       "<polyline clip-path=\"url(#clip00)\" style=\"stroke:#00002d; stroke-width:0.8; stroke-opacity:1; fill:none\" points=\"\n",
       "  505.547,55.057 578.063,55.057 578.063,24.817 505.547,24.817 505.547,55.057 \n",
       "  \"/>\n",
       "<polygon clip-path=\"url(#clip00)\" points=\"\n",
       "511.547,45.985 547.547,45.985 547.547,33.889 511.547,33.889 511.547,45.985 \n",
       "  \" fill=\"#0099ff\" fill-opacity=\"1\"/>\n",
       "<polyline clip-path=\"url(#clip00)\" style=\"stroke:#00002d; stroke-width:0.8; stroke-opacity:1; fill:none\" points=\"\n",
       "  511.547,45.985 547.547,45.985 547.547,33.889 511.547,33.889 511.547,45.985 \n",
       "  \"/>\n",
       "<g clip-path=\"url(#clip00)\">\n",
       "<text style=\"fill:#00002d; fill-opacity:1; font-family:Arial,Helvetica Neue,Helvetica,sans-serif; font-size:12; text-anchor:start;\" transform=\"rotate(0, 553.547, 44.437)\" x=\"553.547\" y=\"44.437\">y1</text>\n",
       "</g>\n",
       "</svg>\n"
      ]
     },
     "execution_count": 102,
     "metadata": {},
     "output_type": "execute_result"
    }
   ],
   "source": [
    "Plots.histogram(convert(Array, dfNew[:,:Pause_sec_]), nbins=20)"
   ]
  },
  {
   "cell_type": "code",
   "execution_count": null,
   "metadata": {
    "collapsed": true
   },
   "outputs": [],
   "source": []
  }
 ],
 "metadata": {
  "kernelspec": {
   "display_name": "Julia 0.5.1",
   "language": "julia",
   "name": "julia-0.5"
  },
  "language_info": {
   "file_extension": ".jl",
   "mimetype": "application/julia",
   "name": "julia",
   "version": "0.5.1"
  }
 },
 "nbformat": 4,
 "nbformat_minor": 2
}
