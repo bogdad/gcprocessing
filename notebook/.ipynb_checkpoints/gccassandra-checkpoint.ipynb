{
 "cells": [
  {
   "cell_type": "code",
   "execution_count": 37,
   "metadata": {},
   "outputs": [
    {
     "name": "stderr",
     "output_type": "stream",
     "text": [
      "\u001b[1m\u001b[34mINFO: Nothing to be done\n",
      "\u001b[0m\u001b[1m\u001b[34mINFO: Nothing to be done\n",
      "\u001b[0m\u001b[1m\u001b[34mINFO: Nothing to be done\n",
      "\u001b[0m\u001b[1m\u001b[34mINFO: Nothing to be done\n",
      "\u001b[0m\u001b[1m\u001b[34mINFO: Nothing to be done\n",
      "\u001b[0m\u001b[1m\u001b[34mINFO: Nothing to be done\n",
      "\u001b[0m\u001b[1m\u001b[34mINFO: Nothing to be done\n",
      "\u001b[0m"
     ]
    }
   ],
   "source": [
    "Pkg.add(\"Blink\")\n",
    "Pkg.add(\"DataFrames\")\n",
    "Pkg.add(\"Plots\")\n",
    "Pkg.add(\"PyPlot\")\n",
    "Pkg.add(\"PlotlyJS\")\n",
    "Pkg.add(\"Plotly\")\n",
    "Pkg.add(\"StatPlots\")"
   ]
  },
  {
   "cell_type": "code",
   "execution_count": 38,
   "metadata": {},
   "outputs": [
    {
     "name": "stderr",
     "output_type": "stream",
     "text": [
      "\u001b[1m\u001b[34mINFO: Nothing to be done\n",
      "\u001b[0m"
     ]
    }
   ],
   "source": [
    "Pkg.add(\"GR\")"
   ]
  },
  {
   "cell_type": "code",
   "execution_count": 39,
   "metadata": {},
   "outputs": [
    {
     "name": "stderr",
     "output_type": "stream",
     "text": [
      "\u001b[1m\u001b[34mINFO: Building Plots\n",
      "\u001b[0m"
     ]
    }
   ],
   "source": [
    "Pkg.build(\"Plots\")"
   ]
  },
  {
   "cell_type": "code",
   "execution_count": 40,
   "metadata": {},
   "outputs": [],
   "source": [
    "using StatPlots"
   ]
  },
  {
   "cell_type": "code",
   "execution_count": 41,
   "metadata": {},
   "outputs": [
    {
     "data": {
      "text/html": [
       "<table class=\"data-frame\"><thead><tr><th></th><th>Timestamp_sec_</th><th>Timestamp_unix_</th><th>Used_K_</th><th>Total_K_</th><th>Pause_sec_</th><th>GC_Type</th><th>Host</th><th>Time</th></tr></thead><tbody><tr><th>1</th><td>18.1746156</td><td>1493818673</td><td>5461376</td><td>15411904</td><td>0.0393844</td><td>GC (Allocation Failure)</td><td>a4</td><td>2017-05-03T13:37:53</td></tr><tr><th>2</th><td>20.2205313</td><td>1493818675</td><td>1929458</td><td>15411904</td><td>0.0334687</td><td>GC (CMS Initial Mark)</td><td>a4</td><td>2017-05-03T13:37:55</td></tr><tr><th>3</th><td>25.287405500000002</td><td>1493818680</td><td>5477163</td><td>15411904</td><td>0.0715945</td><td>GC (Allocation Failure)</td><td>a4</td><td>2017-05-03T13:38:00</td></tr><tr><th>4</th><td>25.4115395</td><td>1493818680</td><td>188785</td><td>15411904</td><td>0.0204605</td><td>GC (CMS Final Remark)</td><td>a4</td><td>2017-05-03T13:38:00</td></tr><tr><th>5</th><td>29.3527868</td><td>1493818684</td><td>5484248</td><td>15411904</td><td>0.0532132</td><td>GC (Allocation Failure)</td><td>a4</td><td>2017-05-03T13:38:04</td></tr><tr><th>6</th><td>33.387265199999995</td><td>1493818688</td><td>5532231</td><td>15411904</td><td>0.1197348</td><td>GC (Allocation Failure)</td><td>a4</td><td>2017-05-03T13:38:08</td></tr><tr><th>7</th><td>36.0904619</td><td>1493818691</td><td>5726473</td><td>15411904</td><td>0.2195381</td><td>GC (Allocation Failure)</td><td>a4</td><td>2017-05-03T13:38:11</td></tr><tr><th>8</th><td>36.2940551</td><td>1493818691</td><td>588564</td><td>15411904</td><td>0.2399449</td><td>GC (GCLocker Initiated GC)</td><td>a4</td><td>2017-05-03T13:38:11</td></tr><tr><th>9</th><td>39.156653000000006</td><td>1493818694</td><td>6084175</td><td>15411904</td><td>0.061347</td><td>GC (Allocation Failure)</td><td>a4</td><td>2017-05-03T13:38:14</td></tr><tr><th>10</th><td>39.1816592</td><td>1493818694</td><td>734136</td><td>15411904</td><td>0.1033408</td><td>GC (GCLocker Initiated GC)</td><td>a4</td><td>2017-05-03T13:38:14</td></tr><tr><th>11</th><td>43.6267976</td><td>1493818698</td><td>6264961</td><td>15411904</td><td>0.0592024</td><td>GC (Allocation Failure)</td><td>a4</td><td>2017-05-03T13:38:18</td></tr><tr><th>12</th><td>49.565155499999996</td><td>1493818704</td><td>6374025</td><td>15411904</td><td>0.1218445</td><td>GC (Allocation Failure)</td><td>a4</td><td>2017-05-03T13:38:24</td></tr><tr><th>13</th><td>55.742661399999996</td><td>1493818711</td><td>6462481</td><td>15411904</td><td>0.0963386</td><td>GC (Allocation Failure)</td><td>a4</td><td>2017-05-03T13:38:31</td></tr><tr><th>14</th><td>68.9512145</td><td>1493818724</td><td>6531848</td><td>15411904</td><td>0.0787855</td><td>GC (Allocation Failure)</td><td>a4</td><td>2017-05-03T13:38:44</td></tr><tr><th>15</th><td>69.0348501</td><td>1493818724</td><td>1142880</td><td>15411904</td><td>0.0791499</td><td>GC (GCLocker Initiated GC)</td><td>a4</td><td>2017-05-03T13:38:44</td></tr><tr><th>16</th><td>87.5784092</td><td>1493818742</td><td>6616158</td><td>15411904</td><td>0.0665908</td><td>GC (Allocation Failure)</td><td>a4</td><td>2017-05-03T13:39:02</td></tr><tr><th>17</th><td>87.591937</td><td>1493818742</td><td>1342626</td><td>15411904</td><td>0.125063</td><td>GC (GCLocker Initiated GC)</td><td>a4</td><td>2017-05-03T13:39:02</td></tr><tr><th>18</th><td>105.7372075</td><td>1493818761</td><td>6828490</td><td>15411904</td><td>0.0607925</td><td>GC (Allocation Failure)</td><td>a4</td><td>2017-05-03T13:39:21</td></tr><tr><th>19</th><td>124.4363908</td><td>1493818779</td><td>6969809</td><td>15411904</td><td>0.1336092</td><td>GC (Allocation Failure)</td><td>a4</td><td>2017-05-03T13:39:39</td></tr><tr><th>20</th><td>143.5540521</td><td>1493818798</td><td>7088164</td><td>15411904</td><td>0.1319479</td><td>GC (Allocation Failure)</td><td>a4</td><td>2017-05-03T13:39:58</td></tr><tr><th>21</th><td>163.9074041</td><td>1493818819</td><td>7257013</td><td>15411904</td><td>0.1295959</td><td>GC (Allocation Failure)</td><td>a4</td><td>2017-05-03T13:40:19</td></tr><tr><th>22</th><td>183.4986007</td><td>1493818838</td><td>7328435</td><td>15411904</td><td>0.1403993</td><td>GC (Allocation Failure)</td><td>a4</td><td>2017-05-03T13:40:38</td></tr><tr><th>23</th><td>201.7914421</td><td>1493818857</td><td>7488834</td><td>15411904</td><td>0.1515579</td><td>GC (Allocation Failure)</td><td>a4</td><td>2017-05-03T13:40:57</td></tr><tr><th>24</th><td>217.1435247</td><td>1493818872</td><td>7622320</td><td>15411904</td><td>0.2154753</td><td>GC (Allocation Failure)</td><td>a4</td><td>2017-05-03T13:41:12</td></tr><tr><th>25</th><td>232.2484142</td><td>1493818887</td><td>7869827</td><td>15411904</td><td>0.2245858</td><td>GC (Allocation Failure)</td><td>a4</td><td>2017-05-03T13:41:27</td></tr><tr><th>26</th><td>252.8515202</td><td>1493818908</td><td>8037625</td><td>15411904</td><td>0.0964798</td><td>GC (Allocation Failure)</td><td>a4</td><td>2017-05-03T13:41:48</td></tr><tr><th>27</th><td>273.07174840000005</td><td>1493818928</td><td>8073460</td><td>15411904</td><td>0.1122516</td><td>GC (Allocation Failure)</td><td>a4</td><td>2017-05-03T13:42:08</td></tr><tr><th>28</th><td>284.1902781</td><td>1493818939</td><td>8198316</td><td>15411904</td><td>0.1197219</td><td>GC (Allocation Failure)</td><td>a4</td><td>2017-05-03T13:42:19</td></tr><tr><th>29</th><td>284.3382181</td><td>1493818939</td><td>2906331</td><td>15411904</td><td>0.0977819</td><td>GC (GCLocker Initiated GC)</td><td>a4</td><td>2017-05-03T13:42:19</td></tr><tr><th>30</th><td>290.3564055</td><td>1493818945</td><td>8308500</td><td>15411904</td><td>0.0435945</td><td>GC (Allocation Failure)</td><td>a4</td><td>2017-05-03T13:42:25</td></tr><tr><th>&vellip;</th><td>&vellip;</td><td>&vellip;</td><td>&vellip;</td><td>&vellip;</td><td>&vellip;</td><td>&vellip;</td><td>&vellip;</td><td>&vellip;</td></tr></tbody></table>"
      ],
      "text/plain": [
       "493291×8 DataFrames.DataFrame\n",
       "│ Row    │ Timestamp_sec_ │ Timestamp_unix_ │ Used_K_  │ Total_K_ │ Pause_sec_ │\n",
       "├────────┼────────────────┼─────────────────┼──────────┼──────────┼────────────┤\n",
       "│ 1      │ 18.1746        │ 1493818673      │ 5461376  │ 15411904 │ 0.0393844  │\n",
       "│ 2      │ 20.2205        │ 1493818675      │ 1929458  │ 15411904 │ 0.0334687  │\n",
       "│ 3      │ 25.2874        │ 1493818680      │ 5477163  │ 15411904 │ 0.0715945  │\n",
       "│ 4      │ 25.4115        │ 1493818680      │ 188785   │ 15411904 │ 0.0204605  │\n",
       "│ 5      │ 29.3528        │ 1493818684      │ 5484248  │ 15411904 │ 0.0532132  │\n",
       "│ 6      │ 33.3873        │ 1493818688      │ 5532231  │ 15411904 │ 0.119735   │\n",
       "│ 7      │ 36.0905        │ 1493818691      │ 5726473  │ 15411904 │ 0.219538   │\n",
       "│ 8      │ 36.2941        │ 1493818691      │ 588564   │ 15411904 │ 0.239945   │\n",
       "│ 9      │ 39.1567        │ 1493818694      │ 6084175  │ 15411904 │ 0.061347   │\n",
       "│ 10     │ 39.1817        │ 1493818694      │ 734136   │ 15411904 │ 0.103341   │\n",
       "│ 11     │ 43.6268        │ 1493818698      │ 6264961  │ 15411904 │ 0.0592024  │\n",
       "⋮\n",
       "│ 493280 │ 1.97156e5      │ 1494013057      │ 11062212 │ 15411904 │ 0.177525   │\n",
       "│ 493281 │ 1.97171e5      │ 1494013072      │ 11384004 │ 15411904 │ 0.278791   │\n",
       "│ 493282 │ 1.97183e5      │ 1494013084      │ 11634536 │ 15411904 │ 0.105089   │\n",
       "│ 493283 │ 1.97198e5      │ 1494013099      │ 11599065 │ 15411904 │ 0.116792   │\n",
       "│ 493284 │ 1.97204e5      │ 1494013105      │ 11676138 │ 15411904 │ 0.122175   │\n",
       "│ 493285 │ 1.97216e5      │ 1494013116      │ 11746908 │ 15411904 │ 0.094779   │\n",
       "│ 493286 │ 1.97231e5      │ 1494013132      │ 11807729 │ 15411904 │ 0.132332   │\n",
       "│ 493287 │ 1.97248e5      │ 1494013149      │ 11915287 │ 15411904 │ 0.147556   │\n",
       "│ 493288 │ 1.97264e5      │ 1494013165      │ 12052142 │ 15411904 │ 0.14599    │\n",
       "│ 493289 │ 197264.0       │ 1494013165      │ 6696246  │ 15411904 │ 0.0157814  │\n",
       "│ 493290 │ 1.97269e5      │ 1494013170      │ 8673612  │ 15411904 │ 0.283587   │\n",
       "│ 493291 │ 1.9728e5       │ 1494013181      │ 6560212  │ 15411904 │ 0.127362   │\n",
       "\n",
       "│ Row    │ GC_Type                      │ Host   │ Time                  │\n",
       "├────────┼──────────────────────────────┼────────┼───────────────────────┤\n",
       "│ 1      │ \"GC (Allocation Failure)\"    │ \"a4\"   │ \"2017-05-03T13:37:53\" │\n",
       "│ 2      │ \"GC (CMS Initial Mark)\"      │ \"a4\"   │ \"2017-05-03T13:37:55\" │\n",
       "│ 3      │ \"GC (Allocation Failure)\"    │ \"a4\"   │ \"2017-05-03T13:38:00\" │\n",
       "│ 4      │ \"GC (CMS Final Remark)\"      │ \"a4\"   │ \"2017-05-03T13:38:00\" │\n",
       "│ 5      │ \"GC (Allocation Failure)\"    │ \"a4\"   │ \"2017-05-03T13:38:04\" │\n",
       "│ 6      │ \"GC (Allocation Failure)\"    │ \"a4\"   │ \"2017-05-03T13:38:08\" │\n",
       "│ 7      │ \"GC (Allocation Failure)\"    │ \"a4\"   │ \"2017-05-03T13:38:11\" │\n",
       "│ 8      │ \"GC (GCLocker Initiated GC)\" │ \"a4\"   │ \"2017-05-03T13:38:11\" │\n",
       "│ 9      │ \"GC (Allocation Failure)\"    │ \"a4\"   │ \"2017-05-03T13:38:14\" │\n",
       "│ 10     │ \"GC (GCLocker Initiated GC)\" │ \"a4\"   │ \"2017-05-03T13:38:14\" │\n",
       "│ 11     │ \"GC (Allocation Failure)\"    │ \"a4\"   │ \"2017-05-03T13:38:18\" │\n",
       "⋮\n",
       "│ 493280 │ \"GC (Allocation Failure)\"    │ \"b987\" │ \"2017-05-05T19:37:37\" │\n",
       "│ 493281 │ \"GC (Allocation Failure)\"    │ \"b987\" │ \"2017-05-05T19:37:52\" │\n",
       "│ 493282 │ \"GC (GCLocker Initiated GC)\" │ \"b987\" │ \"2017-05-05T19:38:04\" │\n",
       "│ 493283 │ \"GC (Allocation Failure)\"    │ \"b987\" │ \"2017-05-05T19:38:19\" │\n",
       "│ 493284 │ \"GC (Allocation Failure)\"    │ \"b987\" │ \"2017-05-05T19:38:25\" │\n",
       "│ 493285 │ \"GC (Allocation Failure)\"    │ \"b987\" │ \"2017-05-05T19:38:36\" │\n",
       "│ 493286 │ \"GC (Allocation Failure)\"    │ \"b987\" │ \"2017-05-05T19:38:52\" │\n",
       "│ 493287 │ \"GC (Allocation Failure)\"    │ \"b987\" │ \"2017-05-05T19:39:09\" │\n",
       "│ 493288 │ \"GC (Allocation Failure)\"    │ \"b987\" │ \"2017-05-05T19:39:25\" │\n",
       "│ 493289 │ \"GC (CMS Initial Mark)\"      │ \"b987\" │ \"2017-05-05T19:39:25\" │\n",
       "│ 493290 │ \"GC (CMS Final Remark)\"      │ \"b987\" │ \"2017-05-05T19:39:30\" │\n",
       "│ 493291 │ \"GC (Allocation Failure)\"    │ \"b987\" │ \"2017-05-05T19:39:41\" │"
      ]
     },
     "execution_count": 41,
     "metadata": {},
     "output_type": "execute_result"
    }
   ],
   "source": [
    "dfNew = DataFrames.readtable(\"./output_new.csv\", separator = ',', header = true)"
   ]
  },
  {
   "cell_type": "code",
   "execution_count": 42,
   "metadata": {},
   "outputs": [],
   "source": [
    "using DataFrames\n",
    "using Plots\n",
    "using Plotly"
   ]
  },
  {
   "cell_type": "code",
   "execution_count": 43,
   "metadata": {},
   "outputs": [
    {
     "name": "stderr",
     "output_type": "stream",
     "text": [
      "WARNING: Method definition dfFromHost(Any, Any) in module Main at In[8]:2 overwritten at In[43]:2.\n"
     ]
    },
    {
     "data": {
      "text/plain": [
       "dfFromHost (generic function with 1 method)"
      ]
     },
     "execution_count": 43,
     "metadata": {},
     "output_type": "execute_result"
    }
   ],
   "source": [
    "function dfFromHost(df, host)\n",
    "    df[df[:,:Host].==host, :]\n",
    "end"
   ]
  },
  {
   "cell_type": "code",
   "execution_count": null,
   "metadata": {},
   "outputs": [],
   "source": [
    "function dfMoreThan(df, sec)\n",
    "    df[df[:,:Pause_sec_].>sec, :]\n",
    "end"
   ]
  },
  {
   "cell_type": "code",
   "execution_count": null,
   "metadata": {},
   "outputs": [],
   "source": [
    "gr()"
   ]
  },
  {
   "cell_type": "code",
   "execution_count": null,
   "metadata": {},
   "outputs": [],
   "source": [
    "default(guidefont = font(20), tickfont = font(15))\n",
    "\n"
   ]
  },
  {
   "cell_type": "code",
   "execution_count": null,
   "metadata": {
    "scrolled": false
   },
   "outputs": [],
   "source": [
    "describe(dfMoreThan(dfNew, 1))"
   ]
  },
  {
   "cell_type": "code",
   "execution_count": null,
   "metadata": {},
   "outputs": [],
   "source": [
    "Plots.histogram(convert(Array, dfMoreThan(dfNew, 1)[:, :Pause_sec_]), nbins=500)"
   ]
  },
  {
   "cell_type": "code",
   "execution_count": null,
   "metadata": {},
   "outputs": [],
   "source": []
  },
  {
   "cell_type": "code",
   "execution_count": null,
   "metadata": {
    "scrolled": true
   },
   "outputs": [],
   "source": [
    "dfOld = DataFrames.readtable(\"./output_old.csv\", separator = ',', header = true)"
   ]
  },
  {
   "cell_type": "code",
   "execution_count": null,
   "metadata": {},
   "outputs": [],
   "source": [
    "Plots.histogram(convert(Array, dfMoreThan(dfOld, 0)[:, :Pause_sec_]), nbins=500)"
   ]
  },
  {
   "cell_type": "code",
   "execution_count": null,
   "metadata": {},
   "outputs": [],
   "source": [
    "Plots.histogram(convert(Array, dfMoreThan(dfOld, 1)[:, :Pause_sec_]), nbins=500)"
   ]
  },
  {
   "cell_type": "code",
   "execution_count": null,
   "metadata": {},
   "outputs": [],
   "source": [
    "Plots.histogram(convert(Array, dfMoreThan(dfNew, 1)[:, :Pause_sec_]), nbins=500)"
   ]
  },
  {
   "cell_type": "code",
   "execution_count": null,
   "metadata": {},
   "outputs": [],
   "source": [
    "dfMoreThan(dfOld, 7)"
   ]
  },
  {
   "cell_type": "code",
   "execution_count": null,
   "metadata": {
    "scrolled": true
   },
   "outputs": [],
   "source": [
    "dfMoreThan(dfNew, 7)"
   ]
  },
  {
   "cell_type": "code",
   "execution_count": null,
   "metadata": {},
   "outputs": [],
   "source": [
    "describe(dfMoreThan(dfOld, 1)[:, :Pause_sec_])"
   ]
  },
  {
   "cell_type": "code",
   "execution_count": null,
   "metadata": {},
   "outputs": [],
   "source": [
    "describe(dfMoreThan(dfNew, 1)[:, :Pause_sec_])"
   ]
  },
  {
   "cell_type": "code",
   "execution_count": null,
   "metadata": {},
   "outputs": [],
   "source": [
    "describe(dfMoreThan(dfNew, 0)[:, :Pause_sec_])"
   ]
  },
  {
   "cell_type": "code",
   "execution_count": null,
   "metadata": {},
   "outputs": [],
   "source": [
    "describe(dfMoreThan(dfOld, 0)[:, :Pause_sec_])"
   ]
  },
  {
   "cell_type": "code",
   "execution_count": null,
   "metadata": {},
   "outputs": [],
   "source": [
    "describe(dfFromHost(dfMoreThan(dfNew, 0), \"b9182\")[:, :Pause_sec_])"
   ]
  },
  {
   "cell_type": "code",
   "execution_count": null,
   "metadata": {},
   "outputs": [],
   "source": [
    "Plots.histogram(convert(Array, dfFromHost(dfMoreThan(dfNew, 0), \"b9182\")[:, :Pause_sec_]), nbins=500)"
   ]
  },
  {
   "cell_type": "code",
   "execution_count": null,
   "metadata": {},
   "outputs": [],
   "source": [
    "describe(dfFromHost(dfMoreThan(dfNew, 0), \"b9182\")[:, :Pause_sec_])"
   ]
  },
  {
   "cell_type": "code",
   "execution_count": null,
   "metadata": {},
   "outputs": [],
   "source": [
    "dfFromHost(dfMoreThan(dfNew, 4), \"b9182\")"
   ]
  },
  {
   "cell_type": "code",
   "execution_count": null,
   "metadata": {},
   "outputs": [],
   "source": [
    "dfMoreThan(dfNew, 4)"
   ]
  },
  {
   "cell_type": "code",
   "execution_count": null,
   "metadata": {},
   "outputs": [],
   "source": [
    "dfMoreThan(dfOld, 4)"
   ]
  },
  {
   "cell_type": "code",
   "execution_count": null,
   "metadata": {
    "collapsed": true
   },
   "outputs": [],
   "source": []
  },
  {
   "cell_type": "code",
   "execution_count": null,
   "metadata": {
    "collapsed": true
   },
   "outputs": [],
   "source": []
  },
  {
   "cell_type": "code",
   "execution_count": null,
   "metadata": {
    "collapsed": true
   },
   "outputs": [],
   "source": []
  },
  {
   "cell_type": "code",
   "execution_count": null,
   "metadata": {
    "collapsed": true
   },
   "outputs": [],
   "source": []
  }
 ],
 "metadata": {
  "kernelspec": {
   "display_name": "Julia 0.5.1",
   "language": "julia",
   "name": "julia-0.5"
  },
  "language_info": {
   "file_extension": ".jl",
   "mimetype": "application/julia",
   "name": "julia",
   "version": "0.5.1"
  }
 },
 "nbformat": 4,
 "nbformat_minor": 2
}
