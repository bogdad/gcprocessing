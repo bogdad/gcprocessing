{
 "cells": [
  {
   "cell_type": "code",
   "execution_count": 1,
   "metadata": {},
   "outputs": [
    {
     "name": "stderr",
     "output_type": "stream",
     "text": [
      "WARNING: Method definition describe(AbstractArray) in module StatsBase at /Users/vladimirshakhov/.julia/v0.5/StatsBase/src/scalarstats.jl:573 overwritten in module DataFrames at /Users/vladimirshakhov/.julia/v0.5/DataFrames/src/abstractdataframe/abstractdataframe.jl:407.\n"
     ]
    }
   ],
   "source": [
    "using DataFrames"
   ]
  },
  {
   "cell_type": "code",
   "execution_count": 2,
   "metadata": {},
   "outputs": [
    {
     "data": {
      "text/html": [
       "<table class=\"data-frame\"><thead><tr><th></th><th>a1_lon6_rac1_Up_Normal_272_68_GB_0_00_9223372036854775807</th></tr></thead><tbody><tr><th>1</th><td>b1057.lon6  rac1        Up     Normal  106.56 GB       1.04%               -9031218452753634645</td></tr><tr><th>2</th><td>a2508.lon6  rac1        Up     Normal  184.03 GB       0.00%               -8839064868652493482</td></tr><tr><th>3</th><td>b1195.lon6  rac1        Up     Normal  76.6 GB         1.04%               -8646911284551352319</td></tr><tr><th>4</th><td>a1.lon3  rac1        Up     Normal  251.92 GB       0.00%               -8454757700450211157</td></tr><tr><th>5</th><td>b1213.lon6  rac1        Up     Normal  78.23 GB        1.04%               -8262604116349069994</td></tr><tr><th>6</th><td>a2852.lon6  rac1        Up     Normal  134.03 GB       0.00%               -8070450532247928831</td></tr><tr><th>7</th><td>b1428.lon6  rac1        Up     Normal  77.04 GB        1.04%               -7878296948146787669</td></tr><tr><th>8</th><td>a10.lon6  rac1        Up     Normal  280.61 GB       0.00%               -7686143364045646506</td></tr><tr><th>9</th><td>b1581.lon6  rac1        Up     Normal  78.75 GB        1.04%               -7493989779944505343</td></tr><tr><th>10</th><td>a3065.lon6  rac1        Up     Normal  187.94 GB       0.00%               -7301836195843364181</td></tr><tr><th>11</th><td>b1584.lon6  rac1        Up     Normal  82.64 GB        1.04%               -7109682611742223018</td></tr><tr><th>12</th><td>a8632.lon3  rac1        Up     Normal  243.58 GB       0.00%               -6917529027641081855</td></tr><tr><th>13</th><td>b2194.lon6  rac1        Up     Normal  78.02 GB        1.04%               -6725375443539940693</td></tr><tr><th>14</th><td>a3723.lon6  rac1        Up     Normal  136.83 GB       0.00%               -6533221859438799530</td></tr><tr><th>15</th><td>b2429.lon6  rac1        Up     Normal  77.14 GB        1.04%               -6341068275337658367</td></tr><tr><th>16</th><td>a11.lon6  rac1        Up     Normal  269.34 GB       0.00%               -6148914691236517205</td></tr><tr><th>17</th><td>b2618.lon6  rac1        Up     Normal  76.79 GB        1.04%               -5956761107135376042</td></tr><tr><th>18</th><td>a397.lon6  rac1        Up     Normal  186.79 GB       0.00%               -5764607523034234879</td></tr><tr><th>19</th><td>b2727.lon6  rac1        Up     Normal  78.57 GB        1.04%               -5572453938933093717</td></tr><tr><th>20</th><td>a4397.lon6  rac1        Up     Normal  252.79 GB       0.00%               -5380300354831952554</td></tr><tr><th>21</th><td>b3981.lon6  rac1        Up     Normal  76.62 GB        1.04%               -5188146770730811391</td></tr><tr><th>22</th><td>a4735.lon6  rac1        Up     Normal  135.04 GB       0.00%               -4995993186629670229</td></tr><tr><th>23</th><td>b4032.lon6  rac1        Up     Normal  76.68 GB        1.04%               -4803839602528529066</td></tr><tr><th>24</th><td>a13.lon6  rac1        Up     Normal  264.53 GB       0.00%               -4611686018427387903</td></tr><tr><th>25</th><td>b4356.lon6  rac1        Up     Normal  77.46 GB        1.04%               -4419532434326246741</td></tr><tr><th>26</th><td>b7610.lon6  rac1        Up     Normal  78.33 GB        0.00%               -4227378850225105578</td></tr><tr><th>27</th><td>b4597.lon6  rac1        Up     Normal  77.35 GB        1.04%               -4035225266123964415</td></tr><tr><th>28</th><td>a1675.lon6  rac1        Up     Normal  306.4 GB        0.00%               -3843071682022823253</td></tr><tr><th>29</th><td>b4606.lon6  rac1        Up     Normal  77.66 GB        1.04%               -3650918097921682090</td></tr><tr><th>30</th><td>a5285.lon6  rac1        Up     Normal  135.27 GB       0.00%               -3458764513820540927</td></tr><tr><th>&vellip;</th><td>&vellip;</td></tr></tbody></table>"
      ],
      "text/plain": [
       "95×1 DataFrames.DataFrame\n",
       "│ Row │ ├─────┼\n",
       "│ 1   │ │ 2   │ │ 3   │ │ 4   │ │ 5   │ │ 6   │ │ 7   │ │ 8   │ │ 9   │ │ 10  │ │ 11  │ \n",
       "⋮\n",
       "│ 84  │ │ 85  │ │ 86  │ │ 87  │ │ 88  │ │ 89  │ │ 90  │ │ 91  │ │ 92  │ │ 93  │ │ 94  │ │ 95  │ \n",
       "\n",
       "│ Row │ a1_lon6_rac1_Up_Normal_272_68_GB_0_00_9223372036854775807                                         │\n",
       "├─────┼───────────────────────────────────────────────────────────────────────────────────────────────────┤\n",
       "│ 1   │ \"b1057.lon6  rac1        Up     Normal  106.56 GB       1.04%               -9031218452753634645\" │\n",
       "│ 2   │ \"a2508.lon6  rac1        Up     Normal  184.03 GB       0.00%               -8839064868652493482\" │\n",
       "│ 3   │ \"b1195.lon6  rac1        Up     Normal  76.6 GB         1.04%               -8646911284551352319\" │\n",
       "│ 4   │ \"a1.lon3  rac1        Up     Normal  251.92 GB       0.00%               -8454757700450211157\"    │\n",
       "│ 5   │ \"b1213.lon6  rac1        Up     Normal  78.23 GB        1.04%               -8262604116349069994\" │\n",
       "│ 6   │ \"a2852.lon6  rac1        Up     Normal  134.03 GB       0.00%               -8070450532247928831\" │\n",
       "│ 7   │ \"b1428.lon6  rac1        Up     Normal  77.04 GB        1.04%               -7878296948146787669\" │\n",
       "│ 8   │ \"a10.lon6  rac1        Up     Normal  280.61 GB       0.00%               -7686143364045646506\"   │\n",
       "│ 9   │ \"b1581.lon6  rac1        Up     Normal  78.75 GB        1.04%               -7493989779944505343\" │\n",
       "│ 10  │ \"a3065.lon6  rac1        Up     Normal  187.94 GB       0.00%               -7301836195843364181\" │\n",
       "│ 11  │ \"b1584.lon6  rac1        Up     Normal  82.64 GB        1.04%               -7109682611742223018\" │\n",
       "⋮\n",
       "│ 84  │ \"a5351.lon6  rac1        Up     Normal  293.38 GB       0.00%               6917529027641081857\"  │\n",
       "│ 85  │ \"b9271.lon6  rac1        Up     Normal  78.76 GB        1.04%               7109682611742223019\"  │\n",
       "│ 86  │ \"a9346.lon6  rac1        Up     Normal  136.34 GB       0.00%               7301836195843364182\"  │\n",
       "│ 87  │ \"b9443.lon6  rac1        Up     Normal  77.1 GB         1.04%               7493989779944505345\"  │\n",
       "│ 88  │ \"a9.lon6  rac1        Up     Normal  268.7 GB        0.00%               7686143364045646507\"     │\n",
       "│ 89  │ \"b9602.lon6  rac1        Up     Normal  77.09 GB        1.04%               7878296948146787670\"  │\n",
       "│ 90  │ \"a9742.lon6  rac1        Up     Normal  203.45 GB       0.00%               8070450532247928833\"  │\n",
       "│ 91  │ \"b9848.lon6  rac1        Up     Normal  78.37 GB        1.04%               8262604116349069995\"  │\n",
       "│ 92  │ \"a4377.lon6  rac1        Up     Normal  298.16 GB       0.00%               8454757700450211158\"  │\n",
       "│ 93  │ \"b987.lon6  rac1        Up     Normal  76.72 GB        1.04%               8646911284551352321\"   │\n",
       "│ 94  │ \"a9884.lon6  rac1        Up     Normal  133.97 GB       0.00%               8839064868652493483\"  │\n",
       "│ 95  │ \"b991.lon6  rac1        Up     Normal  77.11 GB        1.04%               9031218452753634646\"   │"
      ]
     },
     "execution_count": 2,
     "metadata": {},
     "output_type": "execute_result"
    }
   ],
   "source": [
    "df = DataFrames.readtable(\"./ring.txt\", separator =  '\\t')"
   ]
  },
  {
   "cell_type": "code",
   "execution_count": null,
   "metadata": {
    "collapsed": true
   },
   "outputs": [],
   "source": []
  }
 ],
 "metadata": {
  "kernelspec": {
   "display_name": "Julia 0.5.1",
   "language": "julia",
   "name": "julia-0.5"
  },
  "language_info": {
   "file_extension": ".jl",
   "mimetype": "application/julia",
   "name": "julia",
   "version": "0.5.1"
  }
 },
 "nbformat": 4,
 "nbformat_minor": 2
}
