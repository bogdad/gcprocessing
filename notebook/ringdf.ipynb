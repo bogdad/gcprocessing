{
 "cells": [
  {
   "cell_type": "code",
   "execution_count": 1,
   "metadata": {},
   "outputs": [
    {
     "name": "stderr",
     "output_type": "stream",
     "text": [
      "WARNING: Method definition describe(AbstractArray) in module StatsBase at /Users/vladimirshakhov/.julia/v0.5/StatsBase/src/scalarstats.jl:573 overwritten in module DataFrames at /Users/vladimirshakhov/.julia/v0.5/DataFrames/src/abstractdataframe/abstractdataframe.jl:407.\n"
     ]
    }
   ],
   "source": [
    "using DataFrames"
   ]
  },
  {
   "cell_type": "code",
   "execution_count": 7,
   "metadata": {},
   "outputs": [
    {
     "data": {
      "text/html": [
       "<table class=\"data-frame\"><thead><tr><th></th><th>x1</th><th>x2</th><th>x3</th><th>x4</th><th>x5</th><th>x6</th><th>x7</th><th>x8</th><th>x9</th></tr></thead><tbody><tr><th>1</th><td>a1.lon6</td><td>rac1</td><td>Up</td><td>Normal</td><td>272.68</td><td>GB</td><td>0.00%</td><td>-9223372036854775807</td><td>NA</td></tr><tr><th>2</th><td>b1057.lon6</td><td>rac1</td><td>Up</td><td>Normal</td><td>106.56</td><td>GB</td><td>1.04%</td><td>-9031218452753634645</td><td>NA</td></tr><tr><th>3</th><td>a2508.lon6</td><td>rac1</td><td>Up</td><td>Normal</td><td>184.03</td><td>GB</td><td>0.00%</td><td>-8839064868652493482</td><td>NA</td></tr><tr><th>4</th><td>b1195.lon6</td><td>rac1</td><td>Up</td><td>Normal</td><td>76.6</td><td>GB</td><td>1.04%</td><td>-8646911284551352319</td><td>NA</td></tr><tr><th>5</th><td>a1.lon3</td><td>rac1</td><td>Up</td><td>Normal</td><td>251.92</td><td>GB</td><td>0.00%</td><td>-8454757700450211157</td><td>NA</td></tr><tr><th>6</th><td>b1213.lon6</td><td>rac1</td><td>Up</td><td>Normal</td><td>78.23</td><td>GB</td><td>1.04%</td><td>-8262604116349069994</td><td>NA</td></tr><tr><th>7</th><td>a2852.lon6</td><td>rac1</td><td>Up</td><td>Normal</td><td>134.03</td><td>GB</td><td>0.00%</td><td>-8070450532247928831</td><td>NA</td></tr><tr><th>8</th><td>b1428.lon6</td><td>rac1</td><td>Up</td><td>Normal</td><td>77.04</td><td>GB</td><td>1.04%</td><td>-7878296948146787669</td><td>NA</td></tr><tr><th>9</th><td>a10.lon6</td><td>rac1</td><td>Up</td><td>Normal</td><td>280.61</td><td>GB</td><td>0.00%</td><td>-7686143364045646506</td><td>NA</td></tr><tr><th>10</th><td>b1581.lon6</td><td>rac1</td><td>Up</td><td>Normal</td><td>78.75</td><td>GB</td><td>1.04%</td><td>-7493989779944505343</td><td>NA</td></tr><tr><th>11</th><td>a3065.lon6</td><td>rac1</td><td>Up</td><td>Normal</td><td>187.94</td><td>GB</td><td>0.00%</td><td>-7301836195843364181</td><td>NA</td></tr><tr><th>12</th><td>b1584.lon6</td><td>rac1</td><td>Up</td><td>Normal</td><td>82.64</td><td>GB</td><td>1.04%</td><td>-7109682611742223018</td><td>NA</td></tr><tr><th>13</th><td>a8632.lon3</td><td>rac1</td><td>Up</td><td>Normal</td><td>243.58</td><td>GB</td><td>0.00%</td><td>-6917529027641081855</td><td>NA</td></tr><tr><th>14</th><td>b2194.lon6</td><td>rac1</td><td>Up</td><td>Normal</td><td>78.02</td><td>GB</td><td>1.04%</td><td>-6725375443539940693</td><td>NA</td></tr><tr><th>15</th><td>a3723.lon6</td><td>rac1</td><td>Up</td><td>Normal</td><td>136.83</td><td>GB</td><td>0.00%</td><td>-6533221859438799530</td><td>NA</td></tr><tr><th>16</th><td>b2429.lon6</td><td>rac1</td><td>Up</td><td>Normal</td><td>77.14</td><td>GB</td><td>1.04%</td><td>-6341068275337658367</td><td>NA</td></tr><tr><th>17</th><td>a11.lon6</td><td>rac1</td><td>Up</td><td>Normal</td><td>269.34</td><td>GB</td><td>0.00%</td><td>-6148914691236517205</td><td>NA</td></tr><tr><th>18</th><td>b2618.lon6</td><td>rac1</td><td>Up</td><td>Normal</td><td>76.79</td><td>GB</td><td>1.04%</td><td>-5956761107135376042</td><td>NA</td></tr><tr><th>19</th><td>a397.lon6</td><td>rac1</td><td>Up</td><td>Normal</td><td>186.79</td><td>GB</td><td>0.00%</td><td>-5764607523034234879</td><td>NA</td></tr><tr><th>20</th><td>b2727.lon6</td><td>rac1</td><td>Up</td><td>Normal</td><td>78.57</td><td>GB</td><td>1.04%</td><td>-5572453938933093717</td><td>NA</td></tr><tr><th>21</th><td>a4397.lon6</td><td>rac1</td><td>Up</td><td>Normal</td><td>252.79</td><td>GB</td><td>0.00%</td><td>-5380300354831952554</td><td>NA</td></tr><tr><th>22</th><td>b3981.lon6</td><td>rac1</td><td>Up</td><td>Normal</td><td>76.62</td><td>GB</td><td>1.04%</td><td>-5188146770730811391</td><td>NA</td></tr><tr><th>23</th><td>a4735.lon6</td><td>rac1</td><td>Up</td><td>Normal</td><td>135.04</td><td>GB</td><td>0.00%</td><td>-4995993186629670229</td><td>NA</td></tr><tr><th>24</th><td>b4032.lon6</td><td>rac1</td><td>Up</td><td>Normal</td><td>76.68</td><td>GB</td><td>1.04%</td><td>-4803839602528529066</td><td>NA</td></tr><tr><th>25</th><td>a13.lon6</td><td>rac1</td><td>Up</td><td>Normal</td><td>264.53</td><td>GB</td><td>0.00%</td><td>-4611686018427387903</td><td>NA</td></tr><tr><th>26</th><td>b4356.lon6</td><td>rac1</td><td>Up</td><td>Normal</td><td>77.46</td><td>GB</td><td>1.04%</td><td>-4419532434326246741</td><td>NA</td></tr><tr><th>27</th><td>b7610.lon6</td><td>rac1</td><td>Up</td><td>Normal</td><td>78.33</td><td>GB</td><td>0.00%</td><td>-4227378850225105578</td><td>NA</td></tr><tr><th>28</th><td>b4597.lon6</td><td>rac1</td><td>Up</td><td>Normal</td><td>77.35</td><td>GB</td><td>1.04%</td><td>-4035225266123964415</td><td>NA</td></tr><tr><th>29</th><td>a1675.lon6</td><td>rac1</td><td>Up</td><td>Normal</td><td>306.4</td><td>GB</td><td>0.00%</td><td>-3843071682022823253</td><td>NA</td></tr><tr><th>30</th><td>b4606.lon6</td><td>rac1</td><td>Up</td><td>Normal</td><td>77.66</td><td>GB</td><td>1.04%</td><td>-3650918097921682090</td><td>NA</td></tr><tr><th>&vellip;</th><td>&vellip;</td><td>&vellip;</td><td>&vellip;</td><td>&vellip;</td><td>&vellip;</td><td>&vellip;</td><td>&vellip;</td><td>&vellip;</td><td>&vellip;</td></tr></tbody></table>"
      ],
      "text/plain": [
       "96×9 DataFrames.DataFrame\n",
       "│ Row │ x1           │ x2     │ x3   │ x4       │ x5     │ x6   │ x7      │\n",
       "├─────┼──────────────┼────────┼──────┼──────────┼────────┼──────┼─────────┤\n",
       "│ 1   │ \"a1.lon6\"    │ \"rac1\" │ \"Up\" │ \"Normal\" │ 272.68 │ \"GB\" │ \"0.00%\" │\n",
       "│ 2   │ \"b1057.lon6\" │ \"rac1\" │ \"Up\" │ \"Normal\" │ 106.56 │ \"GB\" │ \"1.04%\" │\n",
       "│ 3   │ \"a2508.lon6\" │ \"rac1\" │ \"Up\" │ \"Normal\" │ 184.03 │ \"GB\" │ \"0.00%\" │\n",
       "│ 4   │ \"b1195.lon6\" │ \"rac1\" │ \"Up\" │ \"Normal\" │ 76.6   │ \"GB\" │ \"1.04%\" │\n",
       "│ 5   │ \"a1.lon3\"    │ \"rac1\" │ \"Up\" │ \"Normal\" │ 251.92 │ \"GB\" │ \"0.00%\" │\n",
       "│ 6   │ \"b1213.lon6\" │ \"rac1\" │ \"Up\" │ \"Normal\" │ 78.23  │ \"GB\" │ \"1.04%\" │\n",
       "│ 7   │ \"a2852.lon6\" │ \"rac1\" │ \"Up\" │ \"Normal\" │ 134.03 │ \"GB\" │ \"0.00%\" │\n",
       "│ 8   │ \"b1428.lon6\" │ \"rac1\" │ \"Up\" │ \"Normal\" │ 77.04  │ \"GB\" │ \"1.04%\" │\n",
       "│ 9   │ \"a10.lon6\"   │ \"rac1\" │ \"Up\" │ \"Normal\" │ 280.61 │ \"GB\" │ \"0.00%\" │\n",
       "│ 10  │ \"b1581.lon6\" │ \"rac1\" │ \"Up\" │ \"Normal\" │ 78.75  │ \"GB\" │ \"1.04%\" │\n",
       "│ 11  │ \"a3065.lon6\" │ \"rac1\" │ \"Up\" │ \"Normal\" │ 187.94 │ \"GB\" │ \"0.00%\" │\n",
       "⋮\n",
       "│ 85  │ \"a5351.lon6\" │ \"rac1\" │ \"Up\" │ \"Normal\" │ 293.38 │ \"GB\" │ \"0.00%\" │\n",
       "│ 86  │ \"b9271.lon6\" │ \"rac1\" │ \"Up\" │ \"Normal\" │ 78.76  │ \"GB\" │ \"1.04%\" │\n",
       "│ 87  │ \"a9346.lon6\" │ \"rac1\" │ \"Up\" │ \"Normal\" │ 136.34 │ \"GB\" │ \"0.00%\" │\n",
       "│ 88  │ \"b9443.lon6\" │ \"rac1\" │ \"Up\" │ \"Normal\" │ 77.1   │ \"GB\" │ \"1.04%\" │\n",
       "│ 89  │ \"a9.lon6\"    │ \"rac1\" │ \"Up\" │ \"Normal\" │ 268.7  │ \"GB\" │ \"0.00%\" │\n",
       "│ 90  │ \"b9602.lon6\" │ \"rac1\" │ \"Up\" │ \"Normal\" │ 77.09  │ \"GB\" │ \"1.04%\" │\n",
       "│ 91  │ \"a9742.lon6\" │ \"rac1\" │ \"Up\" │ \"Normal\" │ 203.45 │ \"GB\" │ \"0.00%\" │\n",
       "│ 92  │ \"b9848.lon6\" │ \"rac1\" │ \"Up\" │ \"Normal\" │ 78.37  │ \"GB\" │ \"1.04%\" │\n",
       "│ 93  │ \"a4377.lon6\" │ \"rac1\" │ \"Up\" │ \"Normal\" │ 298.16 │ \"GB\" │ \"0.00%\" │\n",
       "│ 94  │ \"b987.lon6\"  │ \"rac1\" │ \"Up\" │ \"Normal\" │ 76.72  │ \"GB\" │ \"1.04%\" │\n",
       "│ 95  │ \"a9884.lon6\" │ \"rac1\" │ \"Up\" │ \"Normal\" │ 133.97 │ \"GB\" │ \"0.00%\" │\n",
       "│ 96  │ \"b991.lon6\"  │ \"rac1\" │ \"Up\" │ \"Normal\" │ 77.11  │ \"GB\" │ \"1.04%\" │\n",
       "\n",
       "│ Row │ x8                   │ x9 │\n",
       "├─────┼──────────────────────┼────┤\n",
       "│ 1   │ -9223372036854775807 │ NA │\n",
       "│ 2   │ -9031218452753634645 │ NA │\n",
       "│ 3   │ -8839064868652493482 │ NA │\n",
       "│ 4   │ -8646911284551352319 │ NA │\n",
       "│ 5   │ -8454757700450211157 │ NA │\n",
       "│ 6   │ -8262604116349069994 │ NA │\n",
       "│ 7   │ -8070450532247928831 │ NA │\n",
       "│ 8   │ -7878296948146787669 │ NA │\n",
       "│ 9   │ -7686143364045646506 │ NA │\n",
       "│ 10  │ -7493989779944505343 │ NA │\n",
       "│ 11  │ -7301836195843364181 │ NA │\n",
       "⋮\n",
       "│ 85  │ 6917529027641081857  │ NA │\n",
       "│ 86  │ 7109682611742223019  │ NA │\n",
       "│ 87  │ 7301836195843364182  │ NA │\n",
       "│ 88  │ 7493989779944505345  │ NA │\n",
       "│ 89  │ 7686143364045646507  │ NA │\n",
       "│ 90  │ 7878296948146787670  │ NA │\n",
       "│ 91  │ 8070450532247928833  │ NA │\n",
       "│ 92  │ 8262604116349069995  │ NA │\n",
       "│ 93  │ 8454757700450211158  │ NA │\n",
       "│ 94  │ 8646911284551352321  │ NA │\n",
       "│ 95  │ 8839064868652493483  │ NA │\n",
       "│ 96  │ 9031218452753634646  │ NA │"
      ]
     },
     "execution_count": 7,
     "metadata": {},
     "output_type": "execute_result"
    }
   ],
   "source": [
    "df = DataFrames.readtable(\"./ring.csv\", header = false)"
   ]
  },
  {
   "cell_type": "code",
   "execution_count": null,
   "metadata": {
    "collapsed": true
   },
   "outputs": [],
   "source": []
  }
 ],
 "metadata": {
  "kernelspec": {
   "display_name": "Julia 0.5.1",
   "language": "julia",
   "name": "julia-0.5"
  },
  "language_info": {
   "file_extension": ".jl",
   "mimetype": "application/julia",
   "name": "julia",
   "version": "0.5.1"
  }
 },
 "nbformat": 4,
 "nbformat_minor": 2
}
